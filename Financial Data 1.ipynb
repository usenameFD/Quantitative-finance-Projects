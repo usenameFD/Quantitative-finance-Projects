{
  "cells": [
    {
      "cell_type": "markdown",
      "source": [
        "# Part 1: Replication"
      ],
      "metadata": {
        "id": "pw4E1AMhQZH8"
      },
      "id": "pw4E1AMhQZH8"
    },
    {
      "cell_type": "code",
      "execution_count": null,
      "id": "80ee154e-8874-4d6e-b9b4-cc2609715915",
      "metadata": {
        "tags": [],
        "id": "80ee154e-8874-4d6e-b9b4-cc2609715915"
      },
      "outputs": [],
      "source": [
        "#!pip install yfinance\n",
        "#!pip install pandas_ta"
      ]
    },
    {
      "cell_type": "code",
      "execution_count": null,
      "id": "a3d57110-2faa-445d-a4bb-9b317a09d84c",
      "metadata": {
        "tags": [],
        "id": "a3d57110-2faa-445d-a4bb-9b317a09d84c"
      },
      "outputs": [],
      "source": [
        "import numpy as np\n",
        "import pandas as pd\n",
        "import yfinance as yf\n",
        "import pandas_ta as ta\n",
        "import time\n",
        "\n",
        "from sklearn.model_selection import StratifiedKFold, train_test_split\n",
        "from sklearn.neural_network import MLPClassifier\n",
        "from sklearn.preprocessing import StandardScaler\n",
        "from sklearn.metrics import accuracy_score\n",
        "from scipy.stats import pearsonr\n",
        "\n",
        "from scipy.stats import gmean\n",
        "from sklearn.linear_model import LassoCV\n",
        "from sklearn.ensemble import RandomForestClassifier\n",
        "from sklearn.decomposition import PCA\n",
        "\n",
        "import warnings\n",
        "from sklearn.exceptions import ConvergenceWarning\n",
        "\n",
        "# Suppress all ConvergenceWarnings\n",
        "warnings.filterwarnings(\"ignore\", category=ConvergenceWarning)\n"
      ]
    },
    {
      "cell_type": "code",
      "execution_count": null,
      "id": "4fa409f4-3f69-48d9-8bef-456bbd8eaca3",
      "metadata": {
        "tags": [],
        "id": "4fa409f4-3f69-48d9-8bef-456bbd8eaca3"
      },
      "outputs": [],
      "source": [
        "\n",
        "def load_data(ticker, start_date, end_date):\n",
        "        \"\"\"Load stock data and prepare features and target variable.\"\"\"\n",
        "        print(f\"Downloading {ticker} stock data...\")\n",
        "        data = yf.download(ticker, start=start_date, end=end_date)\n",
        "        data.index = pd.to_datetime(data.index)\n",
        "        data.columns = ['Close','High','Low','Open','Volume']\n",
        "\n",
        "        # Calculate a subset of relevant technical indicators\n",
        "        print(\"Calculating technical indicators...\")\n",
        "        data.ta.strategy(ta.AllStrategy)\n",
        "\n",
        "        data = data.loc[\"2009-12-31\":,] # Keeping data for the studied period\n",
        "\n",
        "        # Calculate the proportion of missing values per column\n",
        "        na_pct = data.isnull().sum() / len(data)\n",
        "\n",
        "        # Filter the columns that have no missing value\n",
        "        columns_to_keep = na_pct[na_pct == 0].index\n",
        "\n",
        "        # Keep only the filtered columns in the data\n",
        "        data = data[columns_to_keep]\n",
        "\n",
        "        # Assign target variable Γ (1 if price increases, 0 otherwise)\n",
        "        data['Gamma'] = (data['Open'] - data['Open'].shift(1)).apply(lambda x: 1 if x > 0 else -1)\n",
        "\n",
        "        # Drop rows with NaN values (due to indicator calculations)\n",
        "        data.dropna(inplace=True)\n",
        "\n",
        "        # Separate features (X) and target (y)\n",
        "        X = data.drop(columns=['Gamma'])\n",
        "        y = data['Gamma']\n",
        "\n",
        "        # Normalize  features\n",
        "        scaler = StandardScaler()\n",
        "        X = pd.DataFrame(scaler.fit_transform(X), columns=X.columns, index=X.index)\n",
        "\n",
        "        return X, y"
      ]
    },
    {
      "cell_type": "code",
      "execution_count": null,
      "id": "56dc272f-6712-4964-b0d3-3fac1686d28f",
      "metadata": {
        "tags": [],
        "id": "56dc272f-6712-4964-b0d3-3fac1686d28f"
      },
      "outputs": [],
      "source": [
        "class StockMLPClassifier:\n",
        "    def __init__(self, ticker, start_date=\"2009-01-01\", end_date=\"2020-01-01\", missing_data_threshold=0.1, n_subsets=2):\n",
        "        self.ticker = ticker\n",
        "        self.start_date = start_date\n",
        "        self.end_date = end_date\n",
        "        self.missing_data_threshold = missing_data_threshold  # Allow threshold for missing data\n",
        "        self.n_subsets = n_subsets  # Number of subsets in which features should appear\n",
        "        self.X = None\n",
        "        self.y = None\n",
        "        self.model = None\n",
        "        self.selected_features = []\n",
        "        self.avg_accuracy = None\n",
        "        self.training_time = None\n",
        "        self.epochs = None\n",
        "        self.median_accuracy = None\n",
        "\n",
        "    def load_data(self, X, y):\n",
        "        self.X = X\n",
        "        self.y = y\n",
        "\n",
        "        print(f\"Total features before selection: {self.X.shape[1]}\")\n",
        "        # Feature selection using Pearson correlation\n",
        "        self.select_features()\n",
        "\n",
        "    def select_features(self):\n",
        "        \"\"\"Select features using various statistical measures.\"\"\"\n",
        "        print(\"Selecting features using statistical measures...\")\n",
        "\n",
        "        if self.n_subsets > 0:\n",
        "            selected_features_dict = {\n",
        "                'low_variance': [],\n",
        "                'lasso_coeffs': [],\n",
        "                'rf_importances': [],\n",
        "                'pca_variances': [],\n",
        "                'mad': [],\n",
        "                'dispersion_ratio': []\n",
        "            }\n",
        "\n",
        "            # Low Variance Selection\n",
        "            low_variance_features = self.X.var()\n",
        "            sorted_low_variance = sorted(zip(self.X.columns, low_variance_features), key=lambda x: x[1], reverse=True)\n",
        "            selected_features_dict['low_variance'] = [x[0] for x in sorted_low_variance[:int(len(sorted_low_variance) * 0.25)]]\n",
        "\n",
        "            # Lasso Feature Selection\n",
        "            lasso_selector = LassoCV().fit(self.X, self.y)\n",
        "            lasso_coeffs = np.abs(lasso_selector.coef_)\n",
        "            sorted_lasso = sorted(zip(self.X.columns, lasso_coeffs), key=lambda x: x[1], reverse=True)\n",
        "            selected_features_dict['lasso_coeffs'] = [x[0] for x in sorted_lasso[:int(len(sorted_lasso) * 0.25)]]\n",
        "\n",
        "            # Random Forest Feature Importance\n",
        "            rf_selector = RandomForestClassifier(n_estimators=100, random_state=42).fit(self.X, self.y)\n",
        "            sorted_rf = sorted(zip(self.X.columns, rf_selector.feature_importances_), key=lambda x: x[1], reverse=True)\n",
        "            selected_features_dict['rf_importances'] = [x[0] for x in sorted_rf[:int(len(sorted_rf) * 0.25)]]\n",
        "\n",
        "            # PCA Feature Selection\n",
        "            pca = PCA(n_components=self.X.shape[1]).fit(self.X)\n",
        "            sorted_pca = sorted(zip(self.X.columns, pca.explained_variance_ratio_), key=lambda x: x[1], reverse=True)\n",
        "            selected_features_dict['pca_variances'] = [x[0] for x in sorted_pca[:int(len(sorted_pca) * 0.25)]]\n",
        "\n",
        "            # Mean Absolute Deviation (MAD)\n",
        "            mad = self.X.mad()\n",
        "            sorted_mad = sorted(zip(self.X.columns, mad), key=lambda x: x[1], reverse=True)\n",
        "            selected_features_dict['mad'] = [x[0] for x in sorted_mad[:int(len(sorted_mad) * 0.25)]]\n",
        "\n",
        "            # Dispersion Ratio\n",
        "            dispersion_ratio = self.X.mean() / self.X.apply(lambda x: gmean(x[x > 0]))\n",
        "            sorted_dr = sorted(zip(self.X.columns, dispersion_ratio), key=lambda x: x[1], reverse=True)\n",
        "            selected_features_dict['dispersion_ratio'] = [x[0] for x in sorted_dr[:int(len(sorted_dr) * 0.25)]]\n",
        "\n",
        "            # Combine selected features across methods\n",
        "            feature_count = {}\n",
        "            for features in selected_features_dict.values():\n",
        "                for feature in features:\n",
        "                    feature_count[feature] = feature_count.get(feature, 0) + 1\n",
        "\n",
        "            self.selected_features = [feature for feature, count in feature_count.items() if count >= self.n_subsets]\n",
        "        else:\n",
        "            self.selected_features = self.X.columns.tolist()\n",
        "\n",
        "        if not self.selected_features:\n",
        "            raise ValueError(\"No features selected. Adjust n_subsets or selection criteria.\")\n",
        "\n",
        "        self.X = self.X[self.selected_features]\n",
        "        print(f\"Selected {len(self.selected_features)} features after selection.\")\n",
        "\n",
        "    def configure_mlp(self):\n",
        "        \"\"\"Configure an MLP classifier with an appropriate hidden layer size.\"\"\"\n",
        "        hidden_layer_sizes = (self.X.shape[1] + len(np.unique(self.y))) // 2  # Simplified hidden layer size calculation\n",
        "        self.model = MLPClassifier(\n",
        "            hidden_layer_sizes=hidden_layer_sizes,\n",
        "            activation='logistic',  # Changed to ReLU for better performance\n",
        "            solver='lbfgs',  # Changed to Adam optimizer for better convergence\n",
        "            batch_size='auto',\n",
        "            learning_rate='adaptive',\n",
        "            learning_rate_init=0.03,  # Adjusted learning rate\n",
        "            max_iter=5000,  # Reduced max iterations\n",
        "            momentum=0.2,\n",
        "            random_state=np.random.get_state()[1][0],\n",
        "            early_stopping=False # Disabled early stopping\n",
        "        )\n",
        "\n",
        "\n",
        "    def cross_validate(self, n_splits=10):\n",
        "        \"\"\"Perform Stratified K-Fold cross-validation.\"\"\"\n",
        "        print(f\"Performing {n_splits}-fold cross-validation...\")\n",
        "        cv_generator = StratifiedKFold(n_splits=n_splits, shuffle=True, random_state=42)\n",
        "        cv_accuracies = []\n",
        "\n",
        "        for train_index, val_index in cv_generator.split(self.X, self.y):\n",
        "            X_train, X_val = self.X.iloc[train_index], self.X.iloc[val_index]\n",
        "            y_train, y_val = self.y.iloc[train_index], self.y.iloc[val_index]\n",
        "\n",
        "            # Train the MLP model\n",
        "            self.model.fit(X_train, y_train)\n",
        "\n",
        "            # Evaluate the model\n",
        "            y_val_pred = self.model.predict(X_val)\n",
        "            accuracy = accuracy_score(y_val, y_val_pred)\n",
        "            cv_accuracies.append(accuracy)\n",
        "\n",
        "        avg_accuracy = np.mean(cv_accuracies)\n",
        "        median_accuracy = np.median(cv_accuracies)\n",
        "        print(f\"Average cross-validation accuracy: \\t{avg_accuracy:.4f}\")\n",
        "        print(\"-\"*100,\"\\n\")\n",
        "        self.avg_accuracy = avg_accuracy\n",
        "        self.median_accuracy = median_accuracy\n",
        "        return avg_accuracy\n",
        "\n",
        "    def evaluate(self, test_size=0.2):\n",
        "        \"\"\"Train the model on the full dataset and evaluate on a test set.\"\"\"\n",
        "        print(f\"Splitting data into training and test sets ({test_size*100:.0f}% test)...\")\n",
        "        X_train, X_test, y_train, y_test = train_test_split(self.X, self.y, test_size=test_size, random_state=42)\n",
        "\n",
        "        # Start timer for training time\n",
        "        start_time = time.time()\n",
        "\n",
        "        # Train the MLP model\n",
        "        self.model.fit(X_train, y_train)\n",
        "\n",
        "        # Calculate training time\n",
        "        self.training_time = time.time() - start_time\n",
        "        self.epochs = self.model.n_iter_\n",
        "\n",
        "        # Evaluate on the test set\n",
        "        y_test_pred = self.model.predict(X_test)\n",
        "        test_accuracy = accuracy_score(y_test, y_test_pred)\n",
        "        print(f\"Test set accuracy : \\t{test_accuracy:.4f}\")\n",
        "        print(\"-\"*20,\"\\n\")\n",
        "\n",
        "        return test_accuracy\n",
        "\n",
        "    def fit(self, X, y):\n",
        "        \"\"\"Execute the full process: Load data, configure MLP, cross-validate, and evaluate.\"\"\"\n",
        "        self.load_data(X, y)\n",
        "        self.configure_mlp()\n",
        "        self.cross_validate()\n",
        "        self.evaluate()\n"
      ]
    },
    {
      "cell_type": "code",
      "execution_count": null,
      "id": "cd32c488-e098-4eae-a61c-c965562b8906",
      "metadata": {
        "id": "cd32c488-e098-4eae-a61c-c965562b8906",
        "outputId": "636e927f-c1a5-4dbd-aa8b-d0ceddd78eb8"
      },
      "outputs": [
        {
          "name": "stderr",
          "output_type": "stream",
          "text": [
            "[*********************100%***********************]  1 of 1 completed"
          ]
        },
        {
          "name": "stdout",
          "output_type": "stream",
          "text": [
            "Downloading EWZ stock data...\n",
            "Calculating technical indicators...\n"
          ]
        },
        {
          "name": "stderr",
          "output_type": "stream",
          "text": [
            "\n",
            "0it [00:00, ?it/s]"
          ]
        },
        {
          "name": "stdout",
          "output_type": "stream",
          "text": [
            "[X] Please install TA-Lib to use 2crows. (pip install TA-Lib)\n",
            "[X] Please install TA-Lib to use 3blackcrows. (pip install TA-Lib)\n",
            "[X] Please install TA-Lib to use 3inside. (pip install TA-Lib)\n",
            "[X] Please install TA-Lib to use 3linestrike. (pip install TA-Lib)\n",
            "[X] Please install TA-Lib to use 3outside. (pip install TA-Lib)\n",
            "[X] Please install TA-Lib to use 3starsinsouth. (pip install TA-Lib)\n",
            "[X] Please install TA-Lib to use 3whitesoldiers. (pip install TA-Lib)\n",
            "[X] Please install TA-Lib to use abandonedbaby. (pip install TA-Lib)\n",
            "[X] Please install TA-Lib to use advanceblock. (pip install TA-Lib)\n",
            "[X] Please install TA-Lib to use belthold. (pip install TA-Lib)\n",
            "[X] Please install TA-Lib to use breakaway. (pip install TA-Lib)\n",
            "[X] Please install TA-Lib to use closingmarubozu. (pip install TA-Lib)\n",
            "[X] Please install TA-Lib to use concealbabyswall. (pip install TA-Lib)\n",
            "[X] Please install TA-Lib to use counterattack. (pip install TA-Lib)\n",
            "[X] Please install TA-Lib to use darkcloudcover. (pip install TA-Lib)\n",
            "[X] Please install TA-Lib to use dojistar. (pip install TA-Lib)\n",
            "[X] Please install TA-Lib to use dragonflydoji. (pip install TA-Lib)\n",
            "[X] Please install TA-Lib to use engulfing. (pip install TA-Lib)\n",
            "[X] Please install TA-Lib to use eveningdojistar. (pip install TA-Lib)\n",
            "[X] Please install TA-Lib to use eveningstar. (pip install TA-Lib)\n",
            "[X] Please install TA-Lib to use gapsidesidewhite. (pip install TA-Lib)\n",
            "[X] Please install TA-Lib to use gravestonedoji. (pip install TA-Lib)\n",
            "[X] Please install TA-Lib to use hammer. (pip install TA-Lib)\n",
            "[X] Please install TA-Lib to use hangingman. (pip install TA-Lib)\n",
            "[X] Please install TA-Lib to use harami. (pip install TA-Lib)\n",
            "[X] Please install TA-Lib to use haramicross. (pip install TA-Lib)\n",
            "[X] Please install TA-Lib to use highwave. (pip install TA-Lib)\n",
            "[X] Please install TA-Lib to use hikkake. (pip install TA-Lib)\n",
            "[X] Please install TA-Lib to use hikkakemod. (pip install TA-Lib)\n",
            "[X] Please install TA-Lib to use homingpigeon. (pip install TA-Lib)\n",
            "[X] Please install TA-Lib to use identical3crows. (pip install TA-Lib)\n",
            "[X] Please install TA-Lib to use inneck. (pip install TA-Lib)\n",
            "[X] Please install TA-Lib to use invertedhammer. (pip install TA-Lib)\n",
            "[X] Please install TA-Lib to use kicking. (pip install TA-Lib)\n",
            "[X] Please install TA-Lib to use kickingbylength. (pip install TA-Lib)\n",
            "[X] Please install TA-Lib to use ladderbottom. (pip install TA-Lib)\n",
            "[X] Please install TA-Lib to use longleggeddoji. (pip install TA-Lib)\n",
            "[X] Please install TA-Lib to use longline. (pip install TA-Lib)\n",
            "[X] Please install TA-Lib to use marubozu. (pip install TA-Lib)\n",
            "[X] Please install TA-Lib to use matchinglow. (pip install TA-Lib)\n",
            "[X] Please install TA-Lib to use mathold. (pip install TA-Lib)\n",
            "[X] Please install TA-Lib to use morningdojistar. (pip install TA-Lib)\n",
            "[X] Please install TA-Lib to use morningstar. (pip install TA-Lib)\n",
            "[X] Please install TA-Lib to use onneck. (pip install TA-Lib)\n",
            "[X] Please install TA-Lib to use piercing. (pip install TA-Lib)\n",
            "[X] Please install TA-Lib to use rickshawman. (pip install TA-Lib)\n",
            "[X] Please install TA-Lib to use risefall3methods. (pip install TA-Lib)\n",
            "[X] Please install TA-Lib to use separatinglines. (pip install TA-Lib)\n",
            "[X] Please install TA-Lib to use shootingstar. (pip install TA-Lib)\n",
            "[X] Please install TA-Lib to use shortline. (pip install TA-Lib)\n",
            "[X] Please install TA-Lib to use spinningtop. (pip install TA-Lib)\n",
            "[X] Please install TA-Lib to use stalledpattern. (pip install TA-Lib)\n",
            "[X] Please install TA-Lib to use sticksandwich. (pip install TA-Lib)\n",
            "[X] Please install TA-Lib to use takuri. (pip install TA-Lib)\n",
            "[X] Please install TA-Lib to use tasukigap. (pip install TA-Lib)\n",
            "[X] Please install TA-Lib to use thrusting. (pip install TA-Lib)\n",
            "[X] Please install TA-Lib to use tristar. (pip install TA-Lib)\n",
            "[X] Please install TA-Lib to use unique3river. (pip install TA-Lib)\n",
            "[X] Please install TA-Lib to use upsidegap2crows. (pip install TA-Lib)\n",
            "[X] Please install TA-Lib to use xsidegap3methods. (pip install TA-Lib)\n"
          ]
        },
        {
          "name": "stderr",
          "output_type": "stream",
          "text": [
            "131it [00:05, 23.25it/s]\n"
          ]
        }
      ],
      "source": [
        "ticker=\"EWZ\"\n",
        "X, y = load_data(ticker=ticker, start_date = \"2009-01-01\", end_date=\"2020-01-01\")"
      ]
    },
    {
      "cell_type": "code",
      "execution_count": null,
      "id": "c68a072a-64f5-4f78-99ac-164bcec4e4d4",
      "metadata": {
        "id": "c68a072a-64f5-4f78-99ac-164bcec4e4d4",
        "outputId": "6ed8f10b-9525-4184-e73c-bb2f9dd48315"
      },
      "outputs": [
        {
          "name": "stdout",
          "output_type": "stream",
          "text": [
            "Total features before selection: 213\n",
            "Selecting features using statistical measures...\n",
            "Selected 213 features after selection.\n",
            "Performing 10-fold cross-validation...\n",
            "Average cross-validation accuracy: \t0.7731\n",
            "---------------------------------------------------------------------------------------------------- \n",
            "\n",
            "Splitting data into training and test sets (20% test)...\n",
            "Test set accuracy : \t0.7798\n",
            "-------------------- \n",
            "\n",
            "Total features before selection: 213\n",
            "Selecting features using statistical measures...\n"
          ]
        },
        {
          "name": "stderr",
          "output_type": "stream",
          "text": [
            "/opt/tljh/user/lib/python3.7/site-packages/numpy/lib/function_base.py:380: RuntimeWarning: Mean of empty slice.\n",
            "  avg = a.mean(axis)\n",
            "/opt/tljh/user/lib/python3.7/site-packages/numpy/core/_methods.py:189: RuntimeWarning: invalid value encountered in double_scalars\n",
            "  ret = ret.dtype.type(ret / rcount)\n"
          ]
        },
        {
          "name": "stdout",
          "output_type": "stream",
          "text": [
            "Selected 169 features after selection.\n",
            "Performing 10-fold cross-validation...\n",
            "Average cross-validation accuracy: \t0.7704\n",
            "---------------------------------------------------------------------------------------------------- \n",
            "\n",
            "Splitting data into training and test sets (20% test)...\n",
            "Test set accuracy : \t0.7897\n",
            "-------------------- \n",
            "\n",
            "Total features before selection: 213\n",
            "Selecting features using statistical measures...\n"
          ]
        },
        {
          "name": "stderr",
          "output_type": "stream",
          "text": [
            "/opt/tljh/user/lib/python3.7/site-packages/numpy/lib/function_base.py:380: RuntimeWarning: Mean of empty slice.\n",
            "  avg = a.mean(axis)\n",
            "/opt/tljh/user/lib/python3.7/site-packages/numpy/core/_methods.py:189: RuntimeWarning: invalid value encountered in double_scalars\n",
            "  ret = ret.dtype.type(ret / rcount)\n"
          ]
        },
        {
          "name": "stdout",
          "output_type": "stream",
          "text": [
            "Selected 87 features after selection.\n",
            "Performing 10-fold cross-validation...\n",
            "Average cross-validation accuracy: \t0.7700\n",
            "---------------------------------------------------------------------------------------------------- \n",
            "\n",
            "Splitting data into training and test sets (20% test)...\n",
            "Test set accuracy : \t0.7738\n",
            "-------------------- \n",
            "\n",
            "Total features before selection: 213\n",
            "Selecting features using statistical measures...\n"
          ]
        },
        {
          "name": "stderr",
          "output_type": "stream",
          "text": [
            "/opt/tljh/user/lib/python3.7/site-packages/numpy/lib/function_base.py:380: RuntimeWarning: Mean of empty slice.\n",
            "  avg = a.mean(axis)\n",
            "/opt/tljh/user/lib/python3.7/site-packages/numpy/core/_methods.py:189: RuntimeWarning: invalid value encountered in double_scalars\n",
            "  ret = ret.dtype.type(ret / rcount)\n"
          ]
        },
        {
          "name": "stdout",
          "output_type": "stream",
          "text": [
            "Selected 44 features after selection.\n",
            "Performing 10-fold cross-validation...\n",
            "Average cross-validation accuracy: \t0.7517\n",
            "---------------------------------------------------------------------------------------------------- \n",
            "\n",
            "Splitting data into training and test sets (20% test)...\n",
            "Test set accuracy : \t0.7718\n",
            "-------------------- \n",
            "\n",
            "Total features before selection: 213\n",
            "Selecting features using statistical measures...\n"
          ]
        },
        {
          "name": "stderr",
          "output_type": "stream",
          "text": [
            "/opt/tljh/user/lib/python3.7/site-packages/numpy/lib/function_base.py:380: RuntimeWarning: Mean of empty slice.\n",
            "  avg = a.mean(axis)\n",
            "/opt/tljh/user/lib/python3.7/site-packages/numpy/core/_methods.py:189: RuntimeWarning: invalid value encountered in double_scalars\n",
            "  ret = ret.dtype.type(ret / rcount)\n"
          ]
        },
        {
          "name": "stdout",
          "output_type": "stream",
          "text": [
            "Selected 16 features after selection.\n",
            "Performing 10-fold cross-validation...\n",
            "Average cross-validation accuracy: \t0.7561\n",
            "---------------------------------------------------------------------------------------------------- \n",
            "\n",
            "Splitting data into training and test sets (20% test)...\n",
            "Test set accuracy : \t0.7381\n",
            "-------------------- \n",
            "\n",
            "Total features before selection: 213\n",
            "Selecting features using statistical measures...\n"
          ]
        },
        {
          "name": "stderr",
          "output_type": "stream",
          "text": [
            "/opt/tljh/user/lib/python3.7/site-packages/numpy/lib/function_base.py:380: RuntimeWarning: Mean of empty slice.\n",
            "  avg = a.mean(axis)\n",
            "/opt/tljh/user/lib/python3.7/site-packages/numpy/core/_methods.py:189: RuntimeWarning: invalid value encountered in double_scalars\n",
            "  ret = ret.dtype.type(ret / rcount)\n"
          ]
        },
        {
          "name": "stdout",
          "output_type": "stream",
          "text": [
            "Selected 2 features after selection.\n",
            "Performing 10-fold cross-validation...\n",
            "Average cross-validation accuracy: \t0.5765\n",
            "---------------------------------------------------------------------------------------------------- \n",
            "\n",
            "Splitting data into training and test sets (20% test)...\n",
            "Test set accuracy : \t0.5774\n",
            "-------------------- \n",
            "\n",
            "Total features before selection: 213\n",
            "Selecting features using statistical measures...\n"
          ]
        },
        {
          "name": "stderr",
          "output_type": "stream",
          "text": [
            "/opt/tljh/user/lib/python3.7/site-packages/numpy/lib/function_base.py:380: RuntimeWarning: Mean of empty slice.\n",
            "  avg = a.mean(axis)\n",
            "/opt/tljh/user/lib/python3.7/site-packages/numpy/core/_methods.py:189: RuntimeWarning: invalid value encountered in double_scalars\n",
            "  ret = ret.dtype.type(ret / rcount)\n"
          ]
        },
        {
          "ename": "ValueError",
          "evalue": "No features selected. Adjust n_subsets or selection criteria.",
          "output_type": "error",
          "traceback": [
            "\u001b[0;31m---------------------------------------------------------------------------\u001b[0m",
            "\u001b[0;31mValueError\u001b[0m                                Traceback (most recent call last)",
            "\u001b[0;32m<ipython-input-23-c06698523788>\u001b[0m in \u001b[0;36m<module>\u001b[0;34m\u001b[0m\n\u001b[1;32m      3\u001b[0m \u001b[0;32mfor\u001b[0m \u001b[0mn\u001b[0m \u001b[0;32min\u001b[0m \u001b[0mrange\u001b[0m\u001b[0;34m(\u001b[0m\u001b[0;36m7\u001b[0m\u001b[0;34m)\u001b[0m\u001b[0;34m:\u001b[0m\u001b[0;34m\u001b[0m\u001b[0;34m\u001b[0m\u001b[0m\n\u001b[1;32m      4\u001b[0m     \u001b[0mmlp_classifier\u001b[0m \u001b[0;34m=\u001b[0m \u001b[0mStockMLPClassifier\u001b[0m\u001b[0;34m(\u001b[0m\u001b[0mticker\u001b[0m\u001b[0;34m=\u001b[0m\u001b[0mticker\u001b[0m\u001b[0;34m,\u001b[0m \u001b[0mn_subsets\u001b[0m\u001b[0;34m=\u001b[0m\u001b[0mn\u001b[0m\u001b[0;34m)\u001b[0m\u001b[0;34m\u001b[0m\u001b[0;34m\u001b[0m\u001b[0m\n\u001b[0;32m----> 5\u001b[0;31m     \u001b[0mmlp_classifier\u001b[0m\u001b[0;34m.\u001b[0m\u001b[0mfit\u001b[0m\u001b[0;34m(\u001b[0m\u001b[0mX\u001b[0m\u001b[0;34m,\u001b[0m \u001b[0my\u001b[0m\u001b[0;34m)\u001b[0m\u001b[0;34m\u001b[0m\u001b[0;34m\u001b[0m\u001b[0m\n\u001b[0m\u001b[1;32m      6\u001b[0m     \u001b[0mresults\u001b[0m\u001b[0;34m[\u001b[0m\u001b[0mn\u001b[0m\u001b[0;34m]\u001b[0m \u001b[0;34m=\u001b[0m \u001b[0mmlp_classifier\u001b[0m\u001b[0;34m\u001b[0m\u001b[0;34m\u001b[0m\u001b[0m\n",
            "\u001b[0;32m<ipython-input-21-595d0cd54e83>\u001b[0m in \u001b[0;36mfit\u001b[0;34m(self, X, y)\u001b[0m\n\u001b[1;32m    152\u001b[0m     \u001b[0;32mdef\u001b[0m \u001b[0mfit\u001b[0m\u001b[0;34m(\u001b[0m\u001b[0mself\u001b[0m\u001b[0;34m,\u001b[0m \u001b[0mX\u001b[0m\u001b[0;34m,\u001b[0m \u001b[0my\u001b[0m\u001b[0;34m)\u001b[0m\u001b[0;34m:\u001b[0m\u001b[0;34m\u001b[0m\u001b[0;34m\u001b[0m\u001b[0m\n\u001b[1;32m    153\u001b[0m         \u001b[0;34m\"\"\"Execute the full process: Load data, configure MLP, cross-validate, and evaluate.\"\"\"\u001b[0m\u001b[0;34m\u001b[0m\u001b[0;34m\u001b[0m\u001b[0m\n\u001b[0;32m--> 154\u001b[0;31m         \u001b[0mself\u001b[0m\u001b[0;34m.\u001b[0m\u001b[0mload_data\u001b[0m\u001b[0;34m(\u001b[0m\u001b[0mX\u001b[0m\u001b[0;34m,\u001b[0m \u001b[0my\u001b[0m\u001b[0;34m)\u001b[0m\u001b[0;34m\u001b[0m\u001b[0;34m\u001b[0m\u001b[0m\n\u001b[0m\u001b[1;32m    155\u001b[0m         \u001b[0mself\u001b[0m\u001b[0;34m.\u001b[0m\u001b[0mconfigure_mlp\u001b[0m\u001b[0;34m(\u001b[0m\u001b[0;34m)\u001b[0m\u001b[0;34m\u001b[0m\u001b[0;34m\u001b[0m\u001b[0m\n\u001b[1;32m    156\u001b[0m         \u001b[0mself\u001b[0m\u001b[0;34m.\u001b[0m\u001b[0mcross_validate\u001b[0m\u001b[0;34m(\u001b[0m\u001b[0;34m)\u001b[0m\u001b[0;34m\u001b[0m\u001b[0;34m\u001b[0m\u001b[0m\n",
            "\u001b[0;32m<ipython-input-21-595d0cd54e83>\u001b[0m in \u001b[0;36mload_data\u001b[0;34m(self, X, y)\u001b[0m\n\u001b[1;32m     21\u001b[0m         \u001b[0mprint\u001b[0m\u001b[0;34m(\u001b[0m\u001b[0;34mf\"Total features before selection: {self.X.shape[1]}\"\u001b[0m\u001b[0;34m)\u001b[0m\u001b[0;34m\u001b[0m\u001b[0;34m\u001b[0m\u001b[0m\n\u001b[1;32m     22\u001b[0m         \u001b[0;31m# Feature selection using Pearson correlation\u001b[0m\u001b[0;34m\u001b[0m\u001b[0;34m\u001b[0m\u001b[0;34m\u001b[0m\u001b[0m\n\u001b[0;32m---> 23\u001b[0;31m         \u001b[0mself\u001b[0m\u001b[0;34m.\u001b[0m\u001b[0mselect_features\u001b[0m\u001b[0;34m(\u001b[0m\u001b[0;34m)\u001b[0m\u001b[0;34m\u001b[0m\u001b[0;34m\u001b[0m\u001b[0m\n\u001b[0m\u001b[1;32m     24\u001b[0m \u001b[0;34m\u001b[0m\u001b[0m\n\u001b[1;32m     25\u001b[0m     \u001b[0;32mdef\u001b[0m \u001b[0mselect_features\u001b[0m\u001b[0;34m(\u001b[0m\u001b[0mself\u001b[0m\u001b[0;34m)\u001b[0m\u001b[0;34m:\u001b[0m\u001b[0;34m\u001b[0m\u001b[0;34m\u001b[0m\u001b[0m\n",
            "\u001b[0;32m<ipython-input-21-595d0cd54e83>\u001b[0m in \u001b[0;36mselect_features\u001b[0;34m(self)\u001b[0m\n\u001b[1;32m     79\u001b[0m \u001b[0;34m\u001b[0m\u001b[0m\n\u001b[1;32m     80\u001b[0m         \u001b[0;32mif\u001b[0m \u001b[0;32mnot\u001b[0m \u001b[0mself\u001b[0m\u001b[0;34m.\u001b[0m\u001b[0mselected_features\u001b[0m\u001b[0;34m:\u001b[0m\u001b[0;34m\u001b[0m\u001b[0;34m\u001b[0m\u001b[0m\n\u001b[0;32m---> 81\u001b[0;31m             \u001b[0;32mraise\u001b[0m \u001b[0mValueError\u001b[0m\u001b[0;34m(\u001b[0m\u001b[0;34m\"No features selected. Adjust n_subsets or selection criteria.\"\u001b[0m\u001b[0;34m)\u001b[0m\u001b[0;34m\u001b[0m\u001b[0;34m\u001b[0m\u001b[0m\n\u001b[0m\u001b[1;32m     82\u001b[0m \u001b[0;34m\u001b[0m\u001b[0m\n\u001b[1;32m     83\u001b[0m         \u001b[0mself\u001b[0m\u001b[0;34m.\u001b[0m\u001b[0mX\u001b[0m \u001b[0;34m=\u001b[0m \u001b[0mself\u001b[0m\u001b[0;34m.\u001b[0m\u001b[0mX\u001b[0m\u001b[0;34m[\u001b[0m\u001b[0mself\u001b[0m\u001b[0;34m.\u001b[0m\u001b[0mselected_features\u001b[0m\u001b[0;34m]\u001b[0m\u001b[0;34m\u001b[0m\u001b[0;34m\u001b[0m\u001b[0m\n",
            "\u001b[0;31mValueError\u001b[0m: No features selected. Adjust n_subsets or selection criteria."
          ]
        }
      ],
      "source": [
        "results = {}\n",
        "\n",
        "for n in range(7):\n",
        "    mlp_classifier = StockMLPClassifier(ticker=ticker, n_subsets=n)\n",
        "    mlp_classifier.fit(X, y)\n",
        "    results[n] = mlp_classifier"
      ]
    },
    {
      "cell_type": "code",
      "execution_count": null,
      "id": "db89eb03-e862-47bf-97bc-f8db6c51e341",
      "metadata": {
        "tags": [],
        "id": "db89eb03-e862-47bf-97bc-f8db6c51e341",
        "outputId": "2f6e3cd1-748f-48bd-c7b6-1a84d4707fd1"
      },
      "outputs": [
        {
          "data": {
            "text/plain": [
              "dict_keys([0, 1, 2, 3, 4, 5])"
            ]
          },
          "execution_count": 24,
          "metadata": {},
          "output_type": "execute_result"
        }
      ],
      "source": [
        "results.keys()"
      ]
    },
    {
      "cell_type": "code",
      "execution_count": null,
      "id": "ded0d9d8-a83b-4c97-b5b5-35a442b776bd",
      "metadata": {
        "tags": [],
        "id": "ded0d9d8-a83b-4c97-b5b5-35a442b776bd"
      },
      "outputs": [],
      "source": [
        "summary = pd.DataFrame({\"n_subsets\": list(results.keys()),\n",
        "                       \"Features\": [len(mlp.selected_features) for mlp in results.values()],\n",
        "                       \"Mean Accuracy (%)\": [mlp.avg_accuracy*100 for mlp in results.values()],\n",
        "                        \"Median Accuracy (%)\": [mlp.median_accuracy*100 for mlp in results.values()],\n",
        "                       \"Training time (s)\": [mlp.training_time for mlp in results.values()],\n",
        "                       \"Epoch\": [mlp.epochs for mlp in results.values()]})"
      ]
    },
    {
      "cell_type": "code",
      "execution_count": null,
      "id": "05ef26db-2573-45f8-b97c-2d722be8d663",
      "metadata": {
        "tags": [],
        "id": "05ef26db-2573-45f8-b97c-2d722be8d663",
        "outputId": "8fddf1d9-5d37-498f-8ce9-7792b5e5a60b"
      },
      "outputs": [
        {
          "data": {
            "text/html": [
              "<div>\n",
              "<style scoped>\n",
              "    .dataframe tbody tr th:only-of-type {\n",
              "        vertical-align: middle;\n",
              "    }\n",
              "\n",
              "    .dataframe tbody tr th {\n",
              "        vertical-align: top;\n",
              "    }\n",
              "\n",
              "    .dataframe thead th {\n",
              "        text-align: right;\n",
              "    }\n",
              "</style>\n",
              "<table border=\"1\" class=\"dataframe\">\n",
              "  <thead>\n",
              "    <tr style=\"text-align: right;\">\n",
              "      <th></th>\n",
              "      <th>n_subsets</th>\n",
              "      <th>Features</th>\n",
              "      <th>Mean Accuracy (%)</th>\n",
              "      <th>Median Accuracy (%)</th>\n",
              "      <th>Training time (s)</th>\n",
              "      <th>Epoch</th>\n",
              "    </tr>\n",
              "  </thead>\n",
              "  <tbody>\n",
              "    <tr>\n",
              "      <th>0</th>\n",
              "      <td>0</td>\n",
              "      <td>213</td>\n",
              "      <td>77.314868</td>\n",
              "      <td>77.182540</td>\n",
              "      <td>47.993394</td>\n",
              "      <td>84</td>\n",
              "    </tr>\n",
              "    <tr>\n",
              "      <th>1</th>\n",
              "      <td>1</td>\n",
              "      <td>169</td>\n",
              "      <td>77.038038</td>\n",
              "      <td>76.737494</td>\n",
              "      <td>44.399523</td>\n",
              "      <td>88</td>\n",
              "    </tr>\n",
              "    <tr>\n",
              "      <th>2</th>\n",
              "      <td>2</td>\n",
              "      <td>87</td>\n",
              "      <td>76.995352</td>\n",
              "      <td>77.335895</td>\n",
              "      <td>17.995603</td>\n",
              "      <td>115</td>\n",
              "    </tr>\n",
              "    <tr>\n",
              "      <th>3</th>\n",
              "      <td>3</td>\n",
              "      <td>44</td>\n",
              "      <td>75.170429</td>\n",
              "      <td>75.547018</td>\n",
              "      <td>24.093608</td>\n",
              "      <td>205</td>\n",
              "    </tr>\n",
              "    <tr>\n",
              "      <th>4</th>\n",
              "      <td>4</td>\n",
              "      <td>16</td>\n",
              "      <td>75.606305</td>\n",
              "      <td>75.595238</td>\n",
              "      <td>40.692792</td>\n",
              "      <td>617</td>\n",
              "    </tr>\n",
              "    <tr>\n",
              "      <th>5</th>\n",
              "      <td>5</td>\n",
              "      <td>2</td>\n",
              "      <td>57.647821</td>\n",
              "      <td>57.142857</td>\n",
              "      <td>0.036625</td>\n",
              "      <td>46</td>\n",
              "    </tr>\n",
              "  </tbody>\n",
              "</table>\n",
              "</div>"
            ],
            "text/plain": [
              "   n_subsets  Features  Mean Accuracy (%)  Median Accuracy (%)  \\\n",
              "0          0       213          77.314868            77.182540   \n",
              "1          1       169          77.038038            76.737494   \n",
              "2          2        87          76.995352            77.335895   \n",
              "3          3        44          75.170429            75.547018   \n",
              "4          4        16          75.606305            75.595238   \n",
              "5          5         2          57.647821            57.142857   \n",
              "\n",
              "   Training time (s)  Epoch  \n",
              "0          47.993394     84  \n",
              "1          44.399523     88  \n",
              "2          17.995603    115  \n",
              "3          24.093608    205  \n",
              "4          40.692792    617  \n",
              "5           0.036625     46  "
            ]
          },
          "execution_count": 26,
          "metadata": {},
          "output_type": "execute_result"
        }
      ],
      "source": [
        "summary"
      ]
    },
    {
      "cell_type": "code",
      "execution_count": null,
      "id": "769a59bf-3a25-4ba3-9cb1-7e7806f33dce",
      "metadata": {
        "tags": [],
        "id": "769a59bf-3a25-4ba3-9cb1-7e7806f33dce",
        "outputId": "7ec6ea34-7692-4f77-c1b4-f5798e873fd8"
      },
      "outputs": [
        {
          "data": {
            "image/png": "[encoded data removed]",
            "text/plain": [
              "<Figure size 432x288 with 1 Axes>"
            ]
          },
          "metadata": {
            "needs_background": "light"
          },
          "output_type": "display_data"
        }
      ],
      "source": [
        "import matplotlib.pyplot as plt\n",
        "\n",
        "y_cum = y.cumsum()\n",
        "y_cum.plot(title=f\" The Γ Cumulative Movement for  EWZ\")\n",
        "\n",
        "# Save the figure\n",
        "plt.savefig(f\"gamma_cumulative_movement_EWZ.png\", dpi=300, bbox_inches='tight')\n"
      ]
    },
    {
      "cell_type": "code",
      "execution_count": null,
      "id": "43979c72-c25c-4b27-a4c4-d5ee79ba368d",
      "metadata": {
        "id": "43979c72-c25c-4b27-a4c4-d5ee79ba368d",
        "outputId": "0693ea33-8a67-415a-b926-d3ea0fe0e085"
      },
      "outputs": [
        {
          "data": {
            "image/png": "[encoded data removed]",
            "text/plain": [
              "<Figure size 432x288 with 1 Axes>"
            ]
          },
          "metadata": {
            "needs_background": "light"
          },
          "output_type": "display_data"
        }
      ],
      "source": [
        "X['Open'].plot(title=f'Behavior of Open values for EWZ')\n",
        "plt.savefig(f\"open_price_movement_EWZ.png\", dpi=300, bbox_inches='tight')"
      ]
    },
    {
      "cell_type": "code",
      "execution_count": null,
      "id": "d950c0cc-4e61-462a-886b-eb06ffee8f20",
      "metadata": {
        "tags": [],
        "id": "d950c0cc-4e61-462a-886b-eb06ffee8f20",
        "outputId": "dec8c927-a9a4-43b9-9be8-debf680568bb"
      },
      "outputs": [
        {
          "data": {
            "text/plain": [
              "['AOBV_LR_2',\n",
              " 'AOBV_SR_2',\n",
              " 'CG_10',\n",
              " 'STOCHk_14_3_3',\n",
              " 'Open',\n",
              " 'DMP_14',\n",
              " 'open_Z_30_1',\n",
              " 'low_Z_30_1',\n",
              " 'CCI_14_0.015',\n",
              " 'BOP',\n",
              " 'close_Z_30_1',\n",
              " 'high_Z_30_1',\n",
              " 'BBP_5_2.0',\n",
              " 'AMATe_LR_8_21_2',\n",
              " 'AROONU_14',\n",
              " 'AROOND_14']"
            ]
          },
          "execution_count": 29,
          "metadata": {},
          "output_type": "execute_result"
        }
      ],
      "source": [
        "results[4].selected_features"
      ]
    },
    {
      "cell_type": "code",
      "execution_count": null,
      "id": "c6e96674-9b70-4812-a70f-8864c18b4abb",
      "metadata": {
        "tags": [],
        "id": "c6e96674-9b70-4812-a70f-8864c18b4abb",
        "outputId": "c57975a1-5acd-4964-f1d2-61211fd79049"
      },
      "outputs": [
        {
          "data": {
            "image/png": "[encoded data removed]",
            "text/plain": [
              "<Figure size 432x288 with 1 Axes>"
            ]
          },
          "metadata": {
            "needs_background": "light"
          },
          "output_type": "display_data"
        }
      ],
      "source": [
        "summary[\"Accuracy gain (%)\"] = summary[\"Median Accuracy (%)\"] - summary.loc[0,\"Median Accuracy (%)\"]\n",
        "summary[\"Accuracy gain (%)\"].plot(title = \"Accuracy gain (%)\" )\n",
        "plt.savefig(f\"Accuracy_gain_EWZ.png\", dpi=300, bbox_inches='tight')"
      ]
    },
    {
      "cell_type": "markdown",
      "source": [
        "# Part 2:  Evaluating One Particular Type of Alternative Data"
      ],
      "metadata": {
        "id": "SD4KqNSVQuAo"
      },
      "id": "SD4KqNSVQuAo"
    },
    {
      "cell_type": "markdown",
      "source": [
        "**User Guide: Social Media Data in Finance and Business**\n",
        "\n",
        "Today, the commonly used type of alternative data in finance and business is social media data. Social media data provide real-time insights about customers' opinions and engagements,  and public sentiment. These are key information that can be used to make decisions in finance and business. This guide offers a comprehensive overview of social media data as an alternative data source by exploring the following:\n",
        "\n",
        "1)\t**Sources of Data**\n",
        "\n",
        "Social media data are collected from different online platforms where users engage with each other, share opinions, generate content, and express their opinions. These online platforms include the following. First, Facebook, data includes engagement on financial pages and investors' sentiment in the form of public posts, reactions, and comments. Second, X(Twitter), data includes stock or crypto mentions, new reactions, and financial discussion in the form of tweets, retweets, user interaction, and hashtags. Third,  LinkedIn, data includes companies’ news, job postings, and professional discussions. Fourth,  Reddit, data includes investors’ trends and sentiment analysis. Fifth, Stocktwits, data includes stock discussions, which is the core business of the platform. Sixth, YouTube, data includes perspectives on trends and opinions provided by video content, comments, and engagement metrics.\n",
        "2)\tTypes of Data\n",
        "Social media data includes both structured and unstructured data formats, which are categorized into the following types. First, textual data, this type of data includes users’ tweets, posts, reactions, comments, and reviews. It’s mostly used in sentiment analysis, trends, and topics. Second, sentiment data, this data type includes user’s opinions, attitudes, and emotions expressed in text form. It’s used in sentiment analysis to measure public perception about a product or market trends. Third, metadata, this data type includes additional information like user profiles, timestamps, geolocation, and engagement metrics (likes, retweets, and shares). This provides context and improves the analysis of social media data. Fourth, multimedia data, this data type includes content like videos, images, and audio shared by social media users that can drive public perceptions. Fifth, network data, this type of data includes information about the relationship between users for example friends, interactions connections, and followers.\n",
        "\n",
        "\n",
        "3)\t**Quality of Data**\n",
        "\n",
        "To produce accurate and reliable analysis results that can be used in making informed financial decisions, researchers or analysts ought to ensure that social media data is of high quality. The quality of social media data is influenced by the following factors. First, data accuracy.  Social media data can be distorted by misinformation, the use of bots, and fake social media accounts. So,  filtering out unreliable sources is key to ensuring data validity and accuracy. Second, data relevance.  To ensure the relevance of data, social media data needs to align with the business or financial question that’s to be addressed. For instance, tweets related to a specific stock are more relevant for investment analysis than general tweets. Third, bias.  In some cases, social media users might not be representative of the whole population, this can lead to sampling biases. Therefore, cross-validating information with other relevant data sources can minimize bias issues. Fourth, the completeness of data.  Social media data need to be a representative dataset with few or no missing values. Data with too many missing values and incomplete data can adversely affect analysis and thereby the results. Fifth, timeliness. Where market conditions are prone to change rapidly, especially in the stock market and forex market, social media data need to be real-time or near-real-time data to ensure they are valuable for financial application.\n",
        "Researchers and analysts can ensure high-quality social data by doing the following. First, use of filters to get rid of spam, misinformation, and bot-generated content. Second, using verified APIs to obtain reliable and structured data. Finally, cross-validation of social media data with external sources. To ensure robustness and avoid biases, researchers can validate social media findings with reliable external sources.\n",
        "\n",
        "\n",
        "**4)\tEthical Issues**\n",
        "\n",
        "To ensure responsible practices in the use of social media data, researchers ought to shun or mitigate ethical issues that come with its use. First, researchers ought to avoid privacy issues. Most social media users do not consent to the use of their data by third parties. Researchers need to use publicly available data to avoid interference with the privacy of social media users.  Second, researchers ought to avoid transparency issues.  Researchers ought to communicate clearly and openly to social media users how their data is collected and is to be used.  Third, researchers also ought to avoid anonymization issues.  This arises when anonymized information is traced back to the owner. To avoid such a problem, researchers ought to use secure anonymization methods to safeguard the identities of social media users. Finally, researchers ought to avoid compliance issues to avoid reputational and legal risks.  By adhering to social media's general data protection regulations, researchers can avoid risks that come with non-compliance."
      ],
      "metadata": {
        "id": "alvAV926Q4Fn"
      },
      "id": "alvAV926Q4Fn"
    },
    {
      "cell_type": "markdown",
      "source": [
        "**5)\tPython Code to Import and Structure into Useful Data Structures**\n",
        "\n",
        "In this case, we shall focus on how you can retrieve stock data from X(Twitter) and structure it into useful data."
      ],
      "metadata": {
        "id": "v6N9FYygQ9lZ"
      },
      "id": "v6N9FYygQ9lZ"
    },
    {
      "cell_type": "code",
      "execution_count": null,
      "id": "aa1eeb1b-68c4-4ec5-b1df-ed3e605259ef",
      "metadata": {
        "id": "aa1eeb1b-68c4-4ec5-b1df-ed3e605259ef"
      },
      "outputs": [],
      "source": [
        "# load required libraries\n",
        "import pandas as pd\n",
        "import numpy as np\n",
        "import matplotlib.pyplot as plt\n",
        "import seaborn as sns\n",
        "import tweepy\n",
        "from textblob import TextBlob\n",
        "\n",
        "# identify Twitter API credentials\n",
        "api_key = \"replace with your_actual_api_key\"\n",
        "api_secret_key = \"replace with your_actual_api_secret_key\"\n",
        "access_token = \"replace with your_actual_access_token\"\n",
        "access_token_secret = \"replace with your_actual_access_token_secret\"\n",
        "\n",
        "# authenticate with Twitter API\n",
        "auth = tweepy.OAuth1UserHandler(api_key, api_secret_key, access_token,\n",
        "                                access_token_secret)\n",
        "api = tweepy.API(auth)\n",
        "\n",
        "# retrieve tweets related to a stock\n",
        "query = \"#Stock Ticker\"\n",
        "tweets = tweepy.Cursor(api.search_tweets, q = query, lang=\"en\",\n",
        "                       count=200).items(200)\n",
        "\n",
        "# structure tweets and  about the a stock into a dataframe\n",
        "data = []\n",
        "for tweet in tweets:\n",
        "    data.append({\n",
        "        'user': tweet.user.screen_name,\n",
        "        'location': tweet.user.location,\n",
        "        'created_at': tweet.created_at,\n",
        "        'text': tweet.text,\n",
        "        'retweets': tweet.retweet_count,\n",
        "        'likes': tweet.favorite_count\n",
        "    })\n",
        "\n",
        "stock_data = pd.DataFrame(data)\n"
      ]
    },
    {
      "cell_type": "markdown",
      "source": [
        "**6)\tExploratory Data Analysis of Sample Data**\n",
        "\n",
        "To understand the characteristics of the imported data, we need to conduct exploratory data analysis. This will include plot graphs and computation of basic statistics like count, of the key elements of data."
      ],
      "metadata": {
        "id": "36_xAF7IRGfm"
      },
      "id": "36_xAF7IRGfm"
    },
    {
      "cell_type": "code",
      "source": [
        "# perform sentiment analysis\n",
        "## create sentiment variable using TextBlob function\n",
        "stock_data['sentiment'] = stock_data['text'].apply(lambda x:\n",
        "                                                   TextBlob(x).sentiment.polarity)\n",
        "## categorize sentiments into negative, neutral or positive\n",
        "stock_data[\"sentiment category\"] = stock_data[\"sentiment\"].apply(lambda x:\n",
        " \"Negative\" if x < 0 else \"Positive\" if x > 0 else \"Neutral\")\n",
        "\n",
        "# display sentiments distribution\n",
        "print(stock_data[\"sentiment category\"].value_counts())\n",
        "\n",
        "# plot the sentiments distribution\n",
        "sns.countplot(x=\"sentiment category\", data=stock_data, palette=\"coolwarm\")\n",
        "plt.title(\"Sentiment Distribution of X(Twitter) Data\")\n",
        "plt.xlabel(\"Sentiment Category\")\n",
        "plt.ylabel(\"Tweet Count\")\n",
        "plt.show()\n"
      ],
      "metadata": {
        "id": "lb50JNDGRH1D"
      },
      "id": "lb50JNDGRH1D",
      "execution_count": null,
      "outputs": []
    },
    {
      "cell_type": "markdown",
      "source": [
        "**7)\tShort Literature Search That Links to Papers Citing Research**\n",
        "\n",
        "Various studies have demonstrated the importance of social media data in finance especially in the investment of stocks and cryptocurrencies. Twitter sentiments can significantly be used to forecast stock price movements, especially for frequently discussed stocks (Sul et al., 23).   Bartov et al. found that aggregated opinions from individuals' tweets correlate with firms’ future earnings and returns (20).  Moreover, other research like Siganos et al., emphasized the relationship between Facebook investor sentiment and stock volatility (1). Finally,  the analysis by Kraaijeveld and De Smedt about cryptocurrency discussions on Twitter revealed that there’s a strong predictive relationship between price movements and Twitter (X) sentiment(14).  All these studies demonstrate the significance of social media data in investment and financial decision-making.\n",
        "\n",
        "                             **Work Cited**\n",
        "\n",
        "Bartov, Eli, et al. “Can Twitter Help Predict Firm-Level Earnings and Stock Returns?” The Accounting Review, vol. 93, no. 3, 1 July 2017, pp. 25–57, doi:10.2308/accr-51865.\n",
        "\n",
        "\n",
        "Kraaijeveld, Olivier, and Johannes De Smedt. “The Predictive Power of Public Twitter Sentiment for Forecasting Cryptocurrency Prices.” Journal of International Financial Markets, Institutions and Money, vol. 65, Mar. 2020, p. 101188, doi:10.1016/j.intfin.2020.101188.\n",
        "\n",
        "\n",
        "Siganos, Antonios, et al. “Facebook’s Daily Sentiment and International Stock Markets.” Journal of Economic Behavior &amp; Organization, vol. 107, Nov. 2014, pp. 730–743, doi:10.1016/j.jebo.2014.06.004.\n",
        "\n",
        "\n",
        "Sul, Hong Kee, et al. “Trading on Twitter: Using Social Media Sentiment to Predict Stock Returns.” Decision Sciences, vol. 48, no. 3, 23 June 2016, pp. 454–488, doi:10.1111/deci.12229."
      ],
      "metadata": {
        "id": "cOqkYgqxROPJ"
      },
      "id": "cOqkYgqxROPJ"
    }
  ],
  "metadata": {
    "kernelspec": {
      "display_name": "Python 3",
      "language": "python",
      "name": "python3"
    },
    "language_info": {
      "codemirror_mode": {
        "name": "ipython",
        "version": 3
      },
      "file_extension": ".py",
      "mimetype": "text/x-python",
      "name": "python",
      "nbconvert_exporter": "python",
      "pygments_lexer": "ipython3",
      "version": "3.7.10"
    },
    "colab": {
      "provenance": [],
      "toc_visible": true
    }
  },
  "nbformat": 4,
  "nbformat_minor": 5
}