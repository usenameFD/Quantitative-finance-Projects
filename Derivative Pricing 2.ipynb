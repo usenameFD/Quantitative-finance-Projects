{
  "nbformat": 4,
  "nbformat_minor": 0,
  "metadata": {
    "colab": {
      "provenance": []
    },
    "kernelspec": {
      "name": "python3",
      "display_name": "Python 3"
    },
    "language_info": {
      "name": "python"
    }
  },
  "cells": [
    {
      "cell_type": "code",
      "source": [
        "!pip install tabulate"
      ],
      "metadata": {
        "id": "Lg-3MIPofT2k",
        "colab": {
          "base_uri": "https://localhost:8080/"
        },
        "outputId": "f5cd664b-e82d-429c-f1cd-04879220e321"
      },
      "execution_count": null,
      "outputs": [
        {
          "output_type": "stream",
          "name": "stdout",
          "text": [
            "Requirement already satisfied: tabulate in /usr/local/lib/python3.11/dist-packages (0.9.0)\n"
          ]
        }
      ]
    },
    {
      "cell_type": "code",
      "source": [
        "# Parameters example STEP 1\n",
        "import numpy as np\n",
        "import pandas as pd\n",
        "from tabulate import tabulate\n",
        "import matplotlib.pyplot as plt"
      ],
      "metadata": {
        "id": "rEMP-IwwHCUm"
      },
      "execution_count": null,
      "outputs": []
    },
    {
      "cell_type": "code",
      "source": [
        "# Parameters\n",
        "S0 = 80      # Spot price\n",
        "K = S0      # Strike price ATM\n",
        "T = 3/12        # Time to maturity (in years)\n",
        "r = 0.055     # Risk-free rate\n",
        "sigma = 0.35  # Volatility\n",
        "M0 = 500 # Number of steps in a year\n",
        "I = 10_000 # Number of MC iteration\n",
        "\n",
        "# Heston param\n",
        "v0 = 0.032\n",
        "kappa_v = 1.85\n",
        "theta_v = 0.045"
      ],
      "metadata": {
        "id": "keztkXPvXTSx"
      },
      "execution_count": null,
      "outputs": []
    },
    {
      "cell_type": "markdown",
      "source": [
        "# Stochastic volatility modeling: Heston model"
      ],
      "metadata": {
        "id": "UFTIqWBMBDmS"
      }
    },
    {
      "cell_type": "code",
      "source": [
        "# European option pricer\n",
        "def heston_european_option(S0, K, r, rho, v0, kappa, theta, sigma, T, M0, I, is_call=True):\n",
        "    M = int(M0*T) # Total time steps\n",
        "    dt = T/M  # Length of time step\n",
        "    sdt = np.sqrt(dt)\n",
        "    v = np.zeros((M + 1, I), dtype=float)\n",
        "    S = np.zeros((M+1, I), dtype=float)\n",
        "    S[0] = S0\n",
        "    v[0] = v0\n",
        "\n",
        "    # Generating random numbers from standard normal\n",
        "    rand = np.random.standard_normal((2, M+1, I))\n",
        "    rand[1] = rho*rand[0] + np.sqrt(1-rho**2)*rand[1]\n",
        "\n",
        "    # Generating vol process\n",
        "    for t in range(1, M + 1):\n",
        "        v[t] = np.maximum(0, v[t - 1] + kappa * (theta - v[t - 1]) * dt + np.sqrt(v[t - 1]) * sigma * rand[1,t] * sdt)\n",
        "        S[t] = S[t - 1] * np.exp((r - 0.5 * v[t]) * dt + np.sqrt(v[t]) * rand[0,t] * sdt)\n",
        "\n",
        "    # Payoff\n",
        "    payoff = np.maximum(S[-1,:]-K, 0) if is_call else np.maximum(K-S[-1,:], 0)\n",
        "    return np.exp(-r*T)*np.mean(payoff)\n",
        "\n",
        "# American option pricer\n",
        "def heston_american_option(S0, K, r, rho, v0, kappa, theta, sigma, T, M0, I, is_call=True):\n",
        "    M = int(M0*T) # Total time steps\n",
        "    dt = T/M  # Length of time step\n",
        "    sdt = np.sqrt(dt)\n",
        "    v = np.zeros((M + 1, I), dtype=float)\n",
        "    S = np.zeros((M+1, I), dtype=float)\n",
        "    options_path = np.zeros((M + 1, I), dtype=float)\n",
        "    payoff = np.zeros((M + 1, I), dtype=float)\n",
        "    S[0] = S0\n",
        "    v[0] = v0\n",
        "\n",
        "    # Generating random numbers from standard normal\n",
        "    rand = np.random.standard_normal((2, M+1, I))\n",
        "    rand[1] = rho*rand[0] + np.sqrt(1-rho**2)*rand[1]\n",
        "\n",
        "    # Generating vol process\n",
        "    for t in range(1, M + 1):\n",
        "        v[t] = np.maximum(0, v[t - 1] + kappa * (theta - v[t - 1]) * dt + np.sqrt(v[t - 1]) * sigma * rand[1,t] * sdt)\n",
        "        S[t] = S[t - 1] * np.exp((r - 0.5 * v[t]) * dt + np.sqrt(v[t]) * rand[0,t] * sdt)\n",
        "\n",
        "    # Payoff\n",
        "    payoff = np.maximum(S-K, 0) if is_call else np.maximum(K-S, 0)\n",
        "    options_path[-1] = payoff[-1]\n",
        "    for t in reversed(range(M)):\n",
        "        options_path[t] = np.maximum(payoff[t], np.exp(-r*dt)*options_path[t+1]) if is_call else np.maximum(payoff[t], options_path[t+1])\n",
        "    return np.mean(options_path[0])\n",
        "\n",
        "# Delta using central difference method\n",
        "def heston_delta(S0, K, r, rho, v0, kappa, theta, sigma, T, M0, I, pricer, is_call=True):\n",
        "  epsilon = 1e-2\n",
        "  option_up = pricer(S0*( 1 + epsilon), K, r, rho, v0, kappa_v, theta_v, sigma, T, M0, I, is_call)\n",
        "  option_down = pricer(S0*(1 - epsilon), K, r, rho, v0, kappa_v, theta_v, sigma, T, M0, I, is_call)\n",
        "  option_delta = (option_up - option_down) / (2 * epsilon * S0)\n",
        "  return option_delta\n",
        "\n",
        "# Gamma using central difference method\n",
        "def heston_gamma(S0, K, r, rho, v0, kappa, theta, sigma, T, M0, I, pricer, is_call=True):\n",
        "  epsilon = 1e-2\n",
        "  option = pricer(S0, K, r, rho, v0, kappa_v, theta_v, sigma, T, M0, I, is_call)\n",
        "  option_up = pricer(S0*( 1 + epsilon), K, r, rho, v0, kappa_v, theta_v, sigma, T, M0, I, is_call)\n",
        "  option_down = pricer(S0*( 1 - epsilon), K, r, rho, v0, kappa_v, theta_v, sigma, T, M0, I, is_call)\n",
        "  option_gamma = (option_up + option_down - 2 * option) / ((S0 * epsilon) ** 2)\n",
        "  return option_gamma"
      ],
      "metadata": {
        "id": "Fx5WveHs4Ieq"
      },
      "execution_count": null,
      "outputs": []
    },
    {
      "cell_type": "markdown",
      "source": [
        "## European option pricing"
      ],
      "metadata": {
        "id": "YJLTpfPgDOhZ"
      }
    },
    {
      "cell_type": "code",
      "source": [
        "rho = -0.30\n",
        "# Compute option prices\n",
        "np.random.seed(0)\n",
        "price_call = heston_european_option(S0, K, r, rho, v0, kappa_v, theta_v, sigma, T, M0, I, is_call=True)\n",
        "price_put = heston_european_option(S0, K, r, rho, v0, kappa_v, theta_v, sigma, T, M0, I, is_call=False)\n",
        "\n",
        "# Compute Delta using central difference method\n",
        "delta_call = heston_delta(S0, K, r, rho, v0, kappa_v, theta_v, sigma, T, M0, I, pricer=heston_european_option, is_call=True)\n",
        "delta_put = heston_delta(S0, K, r, rho, v0, kappa_v, theta_v, sigma, T, M0, I, pricer=heston_european_option,is_call=False)\n",
        "\n",
        "# Compute Gamma using central difference method\n",
        "gamma_call = heston_gamma(S0, K, r, rho, v0, kappa_v, theta_v, sigma, T, M0, I, pricer=heston_european_option,is_call=True)\n",
        "gamma_put = heston_gamma(S0, K, r, rho, v0, kappa_v, theta_v, sigma, T, M0, I, pricer=heston_european_option,is_call=False)\n",
        "\n",
        "\n",
        "# Create results table\n",
        "results = pd.DataFrame({\n",
        "    \"Option's type\": ['Call', 'Put', 'Put - call'],\n",
        "    'Price': [price_call, price_put, price_put - price_call],\n",
        "    'Delta': [delta_call, delta_put, None],\n",
        "    'Gamma': [gamma_call, gamma_put, None],\n",
        "    'Theoretical_parity': [None, None,  S0 - K * np.exp(-r * T)]\n",
        "\n",
        "})\n",
        "\n",
        "# Display results\n",
        "headers = [\"Option's type\", 'Price', 'Delta', 'Gamma', 'Theoretical_parity']\n",
        "print(tabulate(results.round(2), headers=headers, tablefmt=\"pretty\", floatfmt=\".4f\"))\n"
      ],
      "metadata": {
        "colab": {
          "base_uri": "https://localhost:8080/"
        },
        "id": "owmh7xZ6XjMN",
        "outputId": "ff5f5749-f4be-4f4c-d00a-02ed107d761d"
      },
      "execution_count": null,
      "outputs": [
        {
          "output_type": "stream",
          "name": "stdout",
          "text": [
            "+---+---------------+-------+-------+-------+--------------------+\n",
            "|   | Option's type | Price | Delta | Gamma | Theoretical_parity |\n",
            "+---+---------------+-------+-------+-------+--------------------+\n",
            "| 0 |     Call      | 2.88  | 0.53  | -0.2  |        nan         |\n",
            "| 1 |      Put      |  2.8  | -0.46 | 0.15  |        nan         |\n",
            "| 2 |  Put - call   | -0.08 |  nan  |  nan  |        1.09        |\n",
            "+---+---------------+-------+-------+-------+--------------------+\n"
          ]
        }
      ]
    },
    {
      "cell_type": "code",
      "source": [
        "rho = -0.70\n",
        "# Compute option prices\n",
        "np.random.seed(0)\n",
        "price_call = heston_european_option(S0, K, r, rho, v0, kappa_v, theta_v, sigma, T, M0, I, is_call=True)\n",
        "price_put = heston_european_option(S0, K, r, rho, v0, kappa_v, theta_v, sigma, T, M0, I, is_call=False)\n",
        "\n",
        "# Compute Delta using central difference method\n",
        "delta_call = heston_delta(S0, K, r, rho, v0, kappa_v, theta_v, sigma, T, M0, I, pricer=heston_european_option,is_call=True)\n",
        "delta_put = heston_delta(S0, K, r, rho, v0, kappa_v, theta_v, sigma, T, M0, I, pricer=heston_european_option,is_call=False)\n",
        "\n",
        "# Compute Gamma using central difference method\n",
        "gamma_call = heston_gamma(S0, K, r, rho, v0, kappa_v, theta_v, sigma, T, M0, I, pricer=heston_european_option,is_call=True)\n",
        "gamma_put = heston_gamma(S0, K, r, rho, v0, kappa_v, theta_v, sigma, T, M0, I, pricer=heston_european_option,is_call=False)\n",
        "\n",
        "\n",
        "# Create results table\n",
        "results = pd.DataFrame({\n",
        "    \"Option's type\": ['Call', 'Put', 'Put - call'],\n",
        "    'Price': [price_call, price_put, price_put - price_call],\n",
        "    'Delta': [delta_call, delta_put, None],\n",
        "    'Gamma': [gamma_call, gamma_put, None],\n",
        "    'Theoretical_parity': [None, None,  S0 - K * np.exp(-r * T)]\n",
        "\n",
        "})\n",
        "\n",
        "# Display results\n",
        "headers = [\"Option's type\", 'Price', 'Delta', 'Gamma', 'Theoretical_parity']\n",
        "print(tabulate(results.round(2), headers=headers, tablefmt=\"pretty\", floatfmt=\".4f\"))\n"
      ],
      "metadata": {
        "colab": {
          "base_uri": "https://localhost:8080/"
        },
        "id": "jpHThS3WfcBx",
        "outputId": "50f015aa-3fc7-4e4d-8dfc-fb8658a2d334"
      },
      "execution_count": null,
      "outputs": [
        {
          "output_type": "stream",
          "name": "stdout",
          "text": [
            "+---+---------------+-------+-------+-------+--------------------+\n",
            "|   | Option's type | Price | Delta | Gamma | Theoretical_parity |\n",
            "+---+---------------+-------+-------+-------+--------------------+\n",
            "| 0 |     Call      | 2.13  | 0.47  | -0.12 |        nan         |\n",
            "| 1 |      Put      | 3.42  | -0.5  | 0.17  |        nan         |\n",
            "| 2 |  Put - call   | 1.29  |  nan  |  nan  |        1.09        |\n",
            "+---+---------------+-------+-------+-------+--------------------+\n"
          ]
        }
      ]
    },
    {
      "cell_type": "code",
      "source": [
        "np.random.seed(0)\n",
        "strikes = S0 * np.array([0.85, 0.90, 0.95, 1.0, 1.05, 1.10])\n",
        "call_prices = np.array([heston_european_option(S0, strike, r,\n",
        "                                               rho, v0, kappa_v, theta_v, sigma,\n",
        "                                               T, M0, I, is_call=True)\n",
        "                                               for strike in strikes ])\n",
        "plt.plot(strikes/S0, call_prices, 'bo-', label=\"Call price\")\n",
        "plt.xlabel(\"Moneyness\")\n",
        "plt.ylabel(\"Price\")\n",
        "plt.title(\"Call price vs Moneyness\")\n",
        "plt.legend()\n",
        "plt.grid()"
      ],
      "metadata": {
        "colab": {
          "base_uri": "https://localhost:8080/",
          "height": 472
        },
        "id": "rX1GdTi8F1IW",
        "outputId": "cb8ea9f6-89e3-42ff-9349-3d78591ec6a6"
      },
      "execution_count": null,
      "outputs": [
        {
          "output_type": "display_data",
          "data": {
            "text/plain": [
              "<Figure size 640x480 with 1 Axes>"
            ],
            "image/png": "[encoded data removed]"
          },
          "metadata": {}
        }
      ]
    },
    {
      "cell_type": "markdown",
      "source": [
        "## American option pricing"
      ],
      "metadata": {
        "id": "AAAuE6QWBirn"
      }
    },
    {
      "cell_type": "code",
      "source": [
        "rho = -0.30\n",
        "# Compute option prices\n",
        "np.random.seed(0)\n",
        "price_call = heston_american_option(S0, K, r, rho, v0, kappa_v, theta_v, sigma, T, M0, I, is_call=True)\n",
        "price_put = heston_american_option(S0, K, r, rho, v0, kappa_v, theta_v, sigma, T, M0, I, is_call=False)\n",
        "\n",
        "# Compute Delta using central difference method\n",
        "delta_call = heston_delta(S0, K, r, rho, v0, kappa_v, theta_v, sigma, T, M0, I, pricer=heston_american_option, is_call=True)\n",
        "delta_put = heston_delta(S0, K, r, rho, v0, kappa_v, theta_v, sigma, T, M0, I, pricer=heston_american_option,is_call=False)\n",
        "\n",
        "# Compute Gamma using central difference method\n",
        "gamma_call = heston_gamma(S0, K, r, rho, v0, kappa_v, theta_v, sigma, T, M0, I, pricer=heston_american_option,is_call=True)\n",
        "gamma_put = heston_gamma(S0, K, r, rho, v0, kappa_v, theta_v, sigma, T, M0, I, pricer=heston_american_option,is_call=False)\n",
        "\n",
        "\n",
        "# Create results table\n",
        "results = pd.DataFrame({\n",
        "    \"Option's type\": ['Call', 'Put', 'Put - call'],\n",
        "    'Price': [price_call, price_put, price_put - price_call],\n",
        "    'Delta': [delta_call, delta_put, None],\n",
        "    'Gamma': [gamma_call, gamma_put, None],\n",
        "    'Theoretical_parity': [None, None,  S0 - K * np.exp(-r * T)]\n",
        "\n",
        "})\n",
        "\n",
        "# Display results\n",
        "headers = [\"Option's type\", 'Price', 'Delta', 'Gamma', 'Theoretical_parity']\n",
        "print(tabulate(results.round(2), headers=headers, tablefmt=\"pretty\", floatfmt=\".4f\"))\n"
      ],
      "metadata": {
        "id": "xNlZK2Ijh37-",
        "colab": {
          "base_uri": "https://localhost:8080/"
        },
        "outputId": "2eac4a79-4125-4985-feaf-0ea8d64ce67d"
      },
      "execution_count": null,
      "outputs": [
        {
          "output_type": "stream",
          "name": "stdout",
          "text": [
            "+---+---------------+-------+-------+-------+--------------------+\n",
            "|   | Option's type | Price | Delta | Gamma | Theoretical_parity |\n",
            "+---+---------------+-------+-------+-------+--------------------+\n",
            "| 0 |     Call      | 5.33  | 1.01  | -0.26 |        nan         |\n",
            "| 1 |      Put      |  5.4  | -0.9  | 0.18  |        nan         |\n",
            "| 2 |  Put - call   | 0.06  |  nan  |  nan  |        1.09        |\n",
            "+---+---------------+-------+-------+-------+--------------------+\n"
          ]
        }
      ]
    },
    {
      "cell_type": "code",
      "source": [
        "rho = -0.70\n",
        "# Compute option prices\n",
        "np.random.seed(0)\n",
        "price_call = heston_american_option(S0, K, r, rho, v0, kappa_v, theta_v, sigma, T, M0, I, is_call=True)\n",
        "price_put = heston_american_option(S0, K, r, rho, v0, kappa_v, theta_v, sigma, T, M0, I, is_call=False)\n",
        "\n",
        "# Compute Delta using central difference method\n",
        "delta_call = heston_delta(S0, K, r, rho, v0, kappa_v, theta_v, sigma, T, M0, I, pricer=heston_american_option,is_call=True)\n",
        "delta_put = heston_delta(S0, K, r, rho, v0, kappa_v, theta_v, sigma, T, M0, I, pricer=heston_american_option,is_call=False)\n",
        "\n",
        "# Compute Gamma using central difference method\n",
        "gamma_call = heston_gamma(S0, K, r, rho, v0, kappa_v, theta_v, sigma, T, M0, I, pricer=heston_american_option,is_call=True)\n",
        "gamma_put = heston_gamma(S0, K, r, rho, v0, kappa_v, theta_v, sigma, T, M0, I, pricer=heston_american_option,is_call=False)\n",
        "\n",
        "\n",
        "# Create results table\n",
        "results = pd.DataFrame({\n",
        "    \"Option's type\": ['Call', 'Put', 'Put - call'],\n",
        "    'Price': [price_call, price_put, price_put - price_call],\n",
        "    'Delta': [delta_call, delta_put, None],\n",
        "    'Gamma': [gamma_call, gamma_put, None],\n",
        "    'Theoretical_parity': [None, None,  S0 - K * np.exp(-r * T)]\n",
        "\n",
        "})\n",
        "\n",
        "# Display results\n",
        "headers = [\"Option's type\", 'Price', 'Delta', 'Gamma', 'Theoretical_parity']\n",
        "print(tabulate(results.round(2), headers=headers, tablefmt=\"pretty\", floatfmt=\".4f\"))\n"
      ],
      "metadata": {
        "colab": {
          "base_uri": "https://localhost:8080/"
        },
        "id": "jEvuMniqBgXy",
        "outputId": "b9690f9d-e76b-48b0-ae21-5a271198bf58"
      },
      "execution_count": null,
      "outputs": [
        {
          "output_type": "stream",
          "name": "stdout",
          "text": [
            "+---+---------------+-------+-------+-------+--------------------+\n",
            "|   | Option's type | Price | Delta | Gamma | Theoretical_parity |\n",
            "+---+---------------+-------+-------+-------+--------------------+\n",
            "| 0 |     Call      | 4.27  | 0.99  | -0.14 |        nan         |\n",
            "| 1 |      Put      | 6.21  | -0.9  | 0.19  |        nan         |\n",
            "| 2 |  Put - call   | 1.94  |  nan  |  nan  |        1.09        |\n",
            "+---+---------------+-------+-------+-------+--------------------+\n"
          ]
        }
      ]
    },
    {
      "cell_type": "markdown",
      "source": [
        "## European up-and-in call"
      ],
      "metadata": {
        "id": "w_ffdk8KKF0m"
      }
    },
    {
      "cell_type": "code",
      "source": [
        "# European option pricer\n",
        "# B is the barrier level\n",
        "def heston_european_CUI(S0, K, r, B, rho, v0, kappa, theta, sigma, T, M0, I):\n",
        "    M = int(M0*T) # Total time steps\n",
        "    dt = T/M  # Length of time step\n",
        "    sdt = np.sqrt(dt)\n",
        "    v = np.zeros((M + 1, I), dtype=float)\n",
        "    S = np.zeros((M+1, I), dtype=float)\n",
        "    S[0] = S0\n",
        "    v[0] = v0\n",
        "\n",
        "    # Generating random numbers from standard normal\n",
        "    rand = np.random.standard_normal((2, M+1, I))\n",
        "    rand[1] = rho*rand[0] + np.sqrt(1-rho**2)*rand[1]\n",
        "\n",
        "    # Generating vol process\n",
        "    for t in range(1, M + 1):\n",
        "        v[t] = np.maximum(0, v[t - 1] + kappa * (theta - v[t - 1]) * dt + np.sqrt(v[t - 1]) * sigma * rand[1,t] * sdt)\n",
        "        S[t] = S[t - 1] * np.exp((r - 0.5 * v[t]) * dt + np.sqrt(v[t]) * rand[0,t] * sdt)\n",
        "\n",
        "    # Payoff\n",
        "    barrier_activator = np.where(S > B, 1, 0) # Activating the barrier\n",
        "    payoff = np.maximum(S[-1,:]-K, 0) * barrier_activator.max(axis=0)\n",
        "    return np.exp(-r*T)*np.mean(payoff), np.mean(barrier_activator)\n",
        "\n",
        "\n",
        "def heston_european_PDI(S0, K, r, B, rho, v0, kappa, theta, sigma, T, M0, I):\n",
        "    M = int(M0*T) # Total time steps\n",
        "    dt = T/M  # Length of time step\n",
        "    sdt = np.sqrt(dt)\n",
        "    v = np.zeros((M + 1, I), dtype=float)\n",
        "    S = np.zeros((M+1, I), dtype=float)\n",
        "    S[0] = S0\n",
        "    v[0] = v0\n",
        "\n",
        "    # Generating random numbers from standard normal\n",
        "    rand = np.random.standard_normal((2, M+1, I))\n",
        "    rand[1] = rho*rand[0] + np.sqrt(1-rho**2)*rand[1]\n",
        "\n",
        "    # Generating vol process\n",
        "    for t in range(1, M + 1):\n",
        "        v[t] = np.maximum(0, v[t - 1] + kappa * (theta - v[t - 1]) * dt + np.sqrt(v[t - 1]) * sigma * rand[1,t] * sdt)\n",
        "        S[t] = S[t - 1] * np.exp((r - 0.5 * v[t]) * dt + np.sqrt(v[t]) * rand[0,t] * sdt)\n",
        "\n",
        "    # Payoff\n",
        "    barrier_activator = np.where(S < B, 1, 0) # Activating the barrier\n",
        "    payoff = np.maximum(K-S[-1,:], 0) * barrier_activator.max(axis=0)\n",
        "    return np.exp(-r*T)*np.mean(payoff), np.mean(barrier_activator)"
      ],
      "metadata": {
        "id": "1xOtdePmEPct"
      },
      "execution_count": null,
      "outputs": []
    },
    {
      "cell_type": "code",
      "source": [
        "rho = -0.70\n",
        "B = 85\n",
        "K = 90\n",
        "\n",
        "# Compute option prices\n",
        "np.random.seed(0)\n",
        "price_cui, prob_cui = heston_european_CUI(S0, K, r, B, rho, v0, kappa_v, theta_v, sigma, T, M0, I)\n",
        "price_pdi, prob_pdi = heston_european_PDI(S0, K, r, B, rho, v0, kappa_v, theta_v, sigma, T, M0, I)\n",
        "\n",
        "# Create results table\n",
        "results = pd.DataFrame({\n",
        "    \"Option's type\": ['CUI', 'PDI'],\n",
        "    'Price': [price_cui, price_pdi],\n",
        "    'Probability of activating the barrier': [prob_cui, prob_pdi]\n",
        "})\n",
        "\n",
        "# Display results\n",
        "headers = [\"Option's type\", 'Price', 'Probability of activating the barrier']\n",
        "print(tabulate(results.round(2), headers=headers, tablefmt=\"pretty\", floatfmt=\".4f\"))\n"
      ],
      "metadata": {
        "colab": {
          "base_uri": "https://localhost:8080/"
        },
        "id": "RVUUHOcgL-bN",
        "outputId": "08b3ab35-9a4a-407a-b5a3-fa883c8a69ab"
      },
      "execution_count": null,
      "outputs": [
        {
          "output_type": "stream",
          "name": "stdout",
          "text": [
            "+---+---------------+-------+---------------------------------------+\n",
            "|   | Option's type | Price | Probability of activating the barrier |\n",
            "+---+---------------+-------+---------------------------------------+\n",
            "| 0 |      CUI      | 0.08  |                 0.11                  |\n",
            "| 1 |      PDI      | 11.21 |                 0.89                  |\n",
            "+---+---------------+-------+---------------------------------------+\n"
          ]
        }
      ]
    },
    {
      "cell_type": "code",
      "source": [],
      "metadata": {
        "id": "NE8vTnGrmsns"
      },
      "execution_count": null,
      "outputs": []
    },
    {
      "cell_type": "markdown",
      "source": [
        "**Team Member B: Jump Modeler**\n",
        "For the Merton model, you can use the following parameters:\n",
        "- μ =− 0. 5\n",
        "- δ = 0. 22\n",
        "\n",
        "**8.** Using the Merton Model, price an ATM European call and an ATM European put with jump intensity parameter equal to 0.75."
      ],
      "metadata": {
        "id": "_6Nnx35Etdwl"
      }
    },
    {
      "cell_type": "code",
      "source": [
        "import numpy as np\n",
        "\n",
        "# Parameters\n",
        "S0 = 80\n",
        "r = 0.055\n",
        "sigma = 0.35\n",
        "T = 0.25\n",
        "K = 80\n",
        "mu_jump = -0.5\n",
        "delta_jump = 0.22\n",
        "lambda_jump = 0.75\n",
        "N_sim = 10000\n",
        "N_steps = int(500 * T)  # 500 steps per year, adjusted for 0.25 years\n",
        "dt = T / N_steps\n",
        "\n",
        "# Compute adjustment factor k\n",
        "k = np.exp(mu_jump + 0.5 * delta_jump**2) - 1\n",
        "\n",
        "# Monte Carlo simulation\n",
        "np.random.seed(0)\n",
        "S = np.zeros((N_sim, N_steps + 1))\n",
        "S[:, 0] = S0\n",
        "\n",
        "for t in range(N_steps):\n",
        "    Z = np.random.normal(size=N_sim)\n",
        "    N_jumps = np.random.poisson(lambda_jump * dt, size=N_sim)\n",
        "    jump_sizes = np.random.normal(mu_jump, delta_jump, size=(N_sim, max(N_jumps) + 1))\n",
        "    jumps = np.array([np.sum(jump_sizes[i, :N_jumps[i]]) if N_jumps[i] > 0 else 0 for i in range(N_sim)])\n",
        "    S_t = S[:, t]\n",
        "    S[:, t + 1] = S_t * np.exp((r - lambda_jump * k - 0.5 * sigma**2) * dt + sigma * np.sqrt(dt) * Z + jumps)\n",
        "\n",
        "# Payoff calculation\n",
        "call_payoff = np.maximum(S[:, -1] - K, 0)\n",
        "put_payoff = np.maximum(K - S[:, -1], 0)\n",
        "call_price = np.exp(-r * T) * np.mean(call_payoff)\n",
        "put_price = np.exp(-r * T) * np.mean(put_payoff)\n",
        "\n",
        "# Round to nearest cent\n",
        "call_price = round(call_price, 2)\n",
        "put_price = round(put_price, 2)\n",
        "\n",
        "print(\"Q8: Merton Model (Jump Intensity = 0.75)\")\n",
        "print(f\"European Call Price: {call_price:.2f}\")\n",
        "print(f\"European Put Price: {put_price:.2f}\")"
      ],
      "metadata": {
        "colab": {
          "base_uri": "https://localhost:8080/"
        },
        "id": "9MpaJ_HetfHK",
        "outputId": "612039ac-dffe-4961-80ff-ab635ab3f28d"
      },
      "execution_count": null,
      "outputs": [
        {
          "output_type": "stream",
          "name": "stdout",
          "text": [
            "Q8: Merton Model (Jump Intensity = 0.75)\n",
            "European Call Price: 8.27\n",
            "European Put Price: 7.41\n"
          ]
        }
      ]
    },
    {
      "cell_type": "markdown",
      "source": [
        "**9. Using the Merton Model, price an ATM European call and an ATM European put\n",
        "with jump intensity parameter equal to 0.25.**"
      ],
      "metadata": {
        "id": "GYbErDwouFOM"
      }
    },
    {
      "cell_type": "code",
      "source": [
        "import numpy as np\n",
        "\n",
        "# Parameters\n",
        "S0 = 80\n",
        "r = 0.055\n",
        "sigma = 0.35\n",
        "T = 0.25\n",
        "K = 80\n",
        "mu_jump = -0.5\n",
        "delta_jump = 0.22\n",
        "lambda_jump = 0.25\n",
        "N_sim = 10000\n",
        "N_steps = int(500 * T)  # 125 steps\n",
        "dt = T / N_steps\n",
        "\n",
        "# Compute adjustment factor k\n",
        "k = np.exp(mu_jump + 0.5 * delta_jump**2) - 1\n",
        "\n",
        "# Monte Carlo simulation\n",
        "np.random.seed(0)\n",
        "S = np.zeros((N_sim, N_steps + 1))\n",
        "S[:, 0] = S0\n",
        "\n",
        "for t in range(N_steps):\n",
        "    Z = np.random.normal(size=N_sim)\n",
        "    N_jumps = np.random.poisson(lambda_jump * dt, size=N_sim)\n",
        "    jump_sizes = np.random.normal(mu_jump, delta_jump, size=(N_sim, N_steps))\n",
        "    jumps = np.zeros(N_sim)\n",
        "    for i in range(N_sim):\n",
        "        if N_jumps[i] > 0:\n",
        "            jumps[i] = np.sum(jump_sizes[i, :N_jumps[i]])\n",
        "    S_t = S[:, t]\n",
        "    drift = r - lambda_jump * k - 0.5 * sigma**2\n",
        "    S[:, t + 1] = S_t * np.exp(drift * dt + sigma * np.sqrt(dt) * Z + jumps)\n",
        "\n",
        "# Payoff calculation\n",
        "call_payoff = np.maximum(S[:, -1] - K, 0)\n",
        "put_payoff = np.maximum(K - S[:, -1], 0)\n",
        "call_price = np.exp(-r * T) * np.mean(call_payoff)\n",
        "put_price = np.exp(-r * T) * np.mean(put_payoff)\n",
        "\n",
        "# Round to nearest cent\n",
        "call_price = round(call_price, 2)\n",
        "put_price = round(put_price, 2)\n",
        "\n",
        "print(\"Q9: Merton Model (Jump Intensity = 0.25)\")\n",
        "print(f\"European Call Price: {call_price:.2f}\")\n",
        "print(f\"European Put Price: {put_price:.2f}\")"
      ],
      "metadata": {
        "colab": {
          "base_uri": "https://localhost:8080/"
        },
        "id": "675UDi6QuRLg",
        "outputId": "df4ba0ac-a5b7-4d60-e03e-f6b0b4e8a702"
      },
      "execution_count": null,
      "outputs": [
        {
          "output_type": "stream",
          "name": "stdout",
          "text": [
            "Q9: Merton Model (Jump Intensity = 0.25)\n",
            "European Call Price: 6.73\n",
            "European Put Price: 5.83\n"
          ]
        }
      ]
    },
    {
      "cell_type": "markdown",
      "source": [
        "**Q10** Calculate delta and gamma for each of the options in Questions 8 and 9"
      ],
      "metadata": {
        "id": "_gekoLGSu_wb"
      }
    },
    {
      "cell_type": "code",
      "source": [
        "import numpy as np\n",
        "\n",
        "# Parameters\n",
        "S0 = 80\n",
        "r = 0.055\n",
        "sigma = 0.35\n",
        "T = 0.25\n",
        "K = 80\n",
        "mu_jump = -0.5\n",
        "delta_jump = 0.22\n",
        "N_sim = 10000\n",
        "N_steps = int(500 * T)  # 125 steps\n",
        "dt = T / N_steps\n",
        "epsilon = 0.01  # Perturbation for numerical approximation\n",
        "\n",
        "def merton_price(S0, lambda_jump):\n",
        "    # Compute adjustment factor k\n",
        "    k = np.exp(mu_jump + 0.5 * delta_jump**2) - 1\n",
        "\n",
        "    # Monte Carlo simulation\n",
        "    np.random.seed(0)\n",
        "    S = np.zeros((N_sim, N_steps + 1))\n",
        "    S[:, 0] = S0\n",
        "\n",
        "    for t in range(N_steps):\n",
        "        Z = np.random.normal(size=N_sim)\n",
        "        N_jumps = np.random.poisson(lambda_jump * dt, size=N_sim)\n",
        "        max_jumps = max(N_jumps) if max(N_jumps) > 0 else 1\n",
        "        jump_sizes = np.random.normal(mu_jump, delta_jump, size=(N_sim, max_jumps))\n",
        "        jumps = np.zeros(N_sim)\n",
        "        for i in range(N_sim):\n",
        "            if N_jumps[i] > 0:\n",
        "                jumps[i] = np.sum(jump_sizes[i, :N_jumps[i]])\n",
        "        S_t = S[:, t]\n",
        "        drift = r - lambda_jump * k - 0.5 * sigma**2\n",
        "        S[:, t + 1] = S_t * np.exp(drift * dt + sigma * np.sqrt(dt) * Z + jumps)\n",
        "\n",
        "    # Payoff calculation\n",
        "    call_payoff = np.maximum(S[:, -1] - K, 0)\n",
        "    put_payoff = np.maximum(K - S[:, -1], 0)\n",
        "    call_price = np.exp(-r * T) * np.mean(call_payoff)\n",
        "    put_price = np.exp(-r * T) * np.mean(put_payoff)\n",
        "    return call_price, put_price\n",
        "\n",
        "# Q8: Lambda = 0.75\n",
        "lambda_jump = 0.75\n",
        "call_base_q8, put_base_q8 = merton_price(S0, lambda_jump)  # Base prices\n",
        "call_up_q8, put_up_q8 = merton_price(S0 * (1 + epsilon), lambda_jump)  # S0 + epsilon\n",
        "call_down_q8, put_down_q8 = merton_price(S0 * (1 - epsilon), lambda_jump)  # S0 - epsilon\n",
        "\n",
        "# Delta and Gamma for Q8\n",
        "delta_call_q8 = (call_up_q8 - call_down_q8) / (2 * epsilon * S0)\n",
        "delta_put_q8 = (put_up_q8 - put_down_q8) / (2 * epsilon * S0)\n",
        "gamma_call_q8 = (call_up_q8 + call_down_q8 - 2 * call_base_q8) / (epsilon * S0)**2\n",
        "gamma_put_q8 = (put_up_q8 + put_down_q8 - 2 * put_base_q8) / (epsilon * S0)**2\n",
        "\n",
        "# Q9: Lambda = 0.25\n",
        "lambda_jump = 0.25\n",
        "call_base_q9, put_base_q9 = merton_price(S0, lambda_jump)  # Base prices\n",
        "call_up_q9, put_up_q9 = merton_price(S0 * (1 + epsilon), lambda_jump)  # S0 + epsilon\n",
        "call_down_q9, put_down_q9 = merton_price(S0 * (1 - epsilon), lambda_jump)  # S0 - epsilon\n",
        "\n",
        "# Delta and Gamma for Q9\n",
        "delta_call_q9 = (call_up_q9 - call_down_q9) / (2 * epsilon * S0)\n",
        "delta_put_q9 = (put_up_q9 - put_down_q9) / (2 * epsilon * S0)\n",
        "gamma_call_q9 = (call_up_q9 + call_down_q9 - 2 * call_base_q9) / (epsilon * S0)**2\n",
        "gamma_put_q9 = (put_up_q9 + put_down_q9 - 2 * put_base_q9) / (epsilon * S0)**2\n",
        "\n",
        "# Print results\n",
        "print(\"Q10: Greeks for Merton Model (Jump Intensity = 0.75)\")\n",
        "print(f\"Call Delta: {delta_call_q8:.4f}, Gamma: {gamma_call_q8:.4f}\")\n",
        "print(f\"Put Delta: {delta_put_q8:.4f}, Gamma: {gamma_put_q8:.4f}\")\n",
        "\n",
        "print(\"\\nQ10: Greeks for Merton Model (Jump Intensity = 0.25)\")\n",
        "print(f\"Call Delta: {delta_call_q9:.4f}, Gamma: {gamma_call_q9:.4f}\")\n",
        "print(f\"Put Delta: {delta_put_q9:.4f}, Gamma: {gamma_put_q9:.4f}\")"
      ],
      "metadata": {
        "colab": {
          "base_uri": "https://localhost:8080/"
        },
        "id": "mkyWdqdcvBfd",
        "outputId": "5b04b620-a8df-4fc2-b8c8-a6ced4393651"
      },
      "execution_count": null,
      "outputs": [
        {
          "output_type": "stream",
          "name": "stdout",
          "text": [
            "Q10: Greeks for Merton Model (Jump Intensity = 0.75)\n",
            "Call Delta: 0.6529, Gamma: 0.0208\n",
            "Put Delta: -0.3481, Gamma: 0.0208\n",
            "\n",
            "Q10: Greeks for Merton Model (Jump Intensity = 0.25)\n",
            "Call Delta: 0.5895, Gamma: 0.0264\n",
            "Put Delta: -0.4092, Gamma: 0.0264\n"
          ]
        }
      ]
    },
    {
      "cell_type": "code",
      "source": [
        "\n",
        "# Question 11 Team Member C: Model Validator\n",
        "\n",
        "import numpy as np\n",
        "import pandas as pd\n",
        "\n",
        "# -----------------------------------------\n",
        "# General Parameters\n",
        "# -----------------------------------------\n",
        "S0 = 80                # Spot price\n",
        "K = 80                 # Strike price\n",
        "r = 0.055              # Risk-free rate\n",
        "sigma = 0.35           # Volatility for Merton\n",
        "T = 0.25               # Time to maturity in years\n",
        "discount_factor = np.exp(-r * T)\n",
        "\n",
        "# -----------------------------------------\n",
        "# Heston Parameters\n",
        "# -----------------------------------------\n",
        "v0 = 0.032             # Initial variance\n",
        "kappa_v = 1.85         # Speed of mean reversion\n",
        "theta_v = 0.045        # Long-run variance\n",
        "\n",
        "# -----------------------------------------\n",
        "# Merton Parameters\n",
        "# -----------------------------------------\n",
        "mu_j = -0.5            # Mean of jump size\n",
        "delta_j = 0.22         # Std deviation of jump\n",
        "\n",
        "# -----------------------------------------\n",
        "# Monte Carlo Settings\n",
        "# -----------------------------------------\n",
        "n_paths = 5000\n",
        "n_steps = 100\n",
        "\n",
        "# -----------------------------------------\n",
        "# Heston Model Simulation\n",
        "# -----------------------------------------\n",
        "def simulate_heston(S0, K, T, r, v0, kappa, theta, rho, sigma, n_paths, n_steps):\n",
        "    dt = T / n_steps\n",
        "    prices = np.zeros(n_paths)\n",
        "    for i in range(n_paths):\n",
        "        S = S0\n",
        "        v = v0\n",
        "        for _ in range(n_steps):\n",
        "            z1 = np.random.normal()\n",
        "            z2 = rho * z1 + np.sqrt(1 - rho**2) * np.random.normal()\n",
        "            v = np.abs(v + kappa * (theta - v) * dt + sigma * np.sqrt(v * dt) * z2)\n",
        "            S *= np.exp((r - 0.5 * v) * dt + np.sqrt(v * dt) * z1)\n",
        "        prices[i] = S\n",
        "    call = np.exp(-r * T) * np.mean(np.maximum(prices - K, 0))\n",
        "    put = np.exp(-r * T) * np.mean(np.maximum(K - prices, 0))\n",
        "    return call, put\n",
        "\n",
        "# -----------------------------------------\n",
        "# Merton Model Simulation\n",
        "# -----------------------------------------\n",
        "def simulate_merton(S0, K, T, r, sigma, lamb, mu_j, delta_j, n_paths, n_steps):\n",
        "    dt = T / n_steps\n",
        "    prices = np.zeros(n_paths)\n",
        "    for i in range(n_paths):\n",
        "        S = S0\n",
        "        for _ in range(n_steps):\n",
        "            z = np.random.normal()\n",
        "            Nj = np.random.poisson(lamb * dt)\n",
        "            J = np.sum(np.random.normal(mu_j, delta_j, Nj)) if Nj > 0 else 0\n",
        "            S *= np.exp((r - 0.5 * sigma**2) * dt + sigma * np.sqrt(dt) * z + J)\n",
        "        prices[i] = S\n",
        "    call = np.exp(-r * T) * np.mean(np.maximum(prices - K, 0))\n",
        "    put = np.exp(-r * T) * np.mean(np.maximum(K - prices, 0))\n",
        "    return call, put\n",
        "\n",
        "# -----------------------------------------\n",
        "# Run Simulations for Q5–Q9\n",
        "# -----------------------------------------\n",
        "results = []\n",
        "\n",
        "# Q5 – Heston, rho = -0.30\n",
        "c5, p5 = simulate_heston(S0, K, T, r, v0, kappa_v, theta_v, -0.30, sigma, n_paths, n_steps)\n",
        "results.append([\"Q5\", \"Heston\", \"ρ = -0.30\", c5, p5, c5 - p5])\n",
        "\n",
        "# Q6 – Heston, rho = -0.70\n",
        "c6, p6 = simulate_heston(S0, K, T, r, v0, kappa_v, theta_v, -0.70, sigma, n_paths, n_steps)\n",
        "results.append([\"Q6\", \"Heston\", \"ρ = -0.70\", c6, p6, c6 - p6])\n",
        "\n",
        "# Q8 – Merton, lambda = 0.75\n",
        "c8, p8 = simulate_merton(S0, K, T, r, sigma, 0.75, mu_j, delta_j, n_paths, n_steps)\n",
        "results.append([\"Q8\", \"Merton\", \"λ = 0.75\", c8, p8, c8 - p8])\n",
        "\n",
        "# Q9 – Merton, lambda = 0.25\n",
        "c9, p9 = simulate_merton(S0, K, T, r, sigma, 0.25, mu_j, delta_j, n_paths, n_steps)\n",
        "results.append([\"Q9\", \"Merton\", \"λ = 0.25\", c9, p9, c9 - p9])\n",
        "\n",
        "# -----------------------------------------\n",
        "# Results Table\n",
        "# -----------------------------------------\n",
        "df = pd.DataFrame(results, columns=[\n",
        "    \"Question\", \"Model\", \"Parameter\", \"Call Price\", \"Put Price\", \"C - P\"\n",
        "])\n",
        "\n",
        "df[\"Call Price\"] = df[\"Call Price\"].round(2)\n",
        "df[\"Put Price\"] = df[\"Put Price\"].round(2)\n",
        "df[\"C - P\"] = df[\"C - P\"].round(2)\n",
        "\n",
        "# Theoretical put-call parity\n",
        "df[\"Theoretical Parity\"] = round(S0 - K * np.exp(-r * T), 2)\n",
        "df[\"Parity Satisfied?\"] = np.isclose(df[\"C - P\"], df[\"Theoretical Parity\"], atol=0.15)\n",
        "\n",
        "# -----------------------------------------\n",
        "# Print Final Table\n",
        "# -----------------------------------------\n",
        "print(\"\\nPut-Call Parity Validation Results for Question 11:\\n\")\n",
        "print(df.to_string(index=False))"
      ],
      "metadata": {
        "colab": {
          "base_uri": "https://localhost:8080/"
        },
        "id": "ih0JFwkslcyn",
        "outputId": "1e897b44-0599-422a-c809-34d25e3aafae"
      },
      "execution_count": null,
      "outputs": [
        {
          "output_type": "stream",
          "name": "stdout",
          "text": [
            "\n",
            "Put-Call Parity Validation Results for Question 11:\n",
            "\n",
            "Question  Model Parameter  Call Price  Put Price  C - P  Theoretical Parity  Parity Satisfied?\n",
            "      Q5 Heston ρ = -0.30        2.91       2.73   0.18                1.09              False\n",
            "      Q6 Heston ρ = -0.70        2.17       3.41  -1.24                1.09              False\n",
            "      Q8 Merton  λ = 0.75        5.10       9.40  -4.30                1.09              False\n",
            "      Q9 Merton  λ = 0.25        5.81       6.40  -0.59                1.09              False\n"
          ]
        }
      ]
    },
    {
      "cell_type": "code",
      "source": [
        "# Question 12 Team Member C: Model Validator\n",
        "\n",
        "import numpy as np\n",
        "import pandas as pd\n",
        "\n",
        "# -----------------------------\n",
        "# General Parameters\n",
        "# -----------------------------\n",
        "S0 = 80\n",
        "r = 0.055\n",
        "sigma = 0.35\n",
        "T = 0.25\n",
        "discount_factor = np.exp(-r * T)\n",
        "\n",
        "# -----------------------------\n",
        "# Heston Parameters\n",
        "# -----------------------------\n",
        "v0 = 0.032\n",
        "kappa_v = 1.85\n",
        "theta_v = 0.045\n",
        "rho_heston = -0.30  # fixed for this question\n",
        "\n",
        "# -----------------------------\n",
        "# Merton Parameters\n",
        "# -----------------------------\n",
        "mu_j = -0.5\n",
        "delta_j = 0.22\n",
        "lambda_merton = 0.75  # fixed for this question\n",
        "\n",
        "# -----------------------------\n",
        "# Monte Carlo Settings\n",
        "# -----------------------------\n",
        "n_paths = 5000\n",
        "n_steps = 100\n",
        "\n",
        "# -----------------------------\n",
        "# Simulation Functions\n",
        "# -----------------------------\n",
        "def simulate_heston(S0, K, T, r, v0, kappa, theta, rho, sigma, n_paths, n_steps):\n",
        "    dt = T / n_steps\n",
        "    prices = np.zeros(n_paths)\n",
        "    for i in range(n_paths):\n",
        "        S = S0\n",
        "        v = v0\n",
        "        for _ in range(n_steps):\n",
        "            z1 = np.random.normal()\n",
        "            z2 = rho * z1 + np.sqrt(1 - rho**2) * np.random.normal()\n",
        "            v = np.abs(v + kappa * (theta - v) * dt + sigma * np.sqrt(v * dt) * z2)\n",
        "            S *= np.exp((r - 0.5 * v) * dt + np.sqrt(v * dt) * z1)\n",
        "        prices[i] = S\n",
        "    call = discount_factor * np.mean(np.maximum(prices - K, 0))\n",
        "    put = discount_factor * np.mean(np.maximum(K - prices, 0))\n",
        "    return call, put\n",
        "\n",
        "def simulate_merton(S0, K, T, r, sigma, lamb, mu_j, delta_j, n_paths, n_steps):\n",
        "    dt = T / n_steps\n",
        "    prices = np.zeros(n_paths)\n",
        "    for i in range(n_paths):\n",
        "        S = S0\n",
        "        for _ in range(n_steps):\n",
        "            z = np.random.normal()\n",
        "            Nj = np.random.poisson(lamb * dt)\n",
        "            J = np.sum(np.random.normal(mu_j, delta_j, Nj)) if Nj > 0 else 0\n",
        "            S *= np.exp((r - 0.5 * sigma**2) * dt + sigma * np.sqrt(dt) * z + J)\n",
        "        prices[i] = S\n",
        "    call = discount_factor * np.mean(np.maximum(prices - K, 0))\n",
        "    put = discount_factor * np.mean(np.maximum(K - prices, 0))\n",
        "    return call, put\n",
        "\n",
        "# -----------------------------\n",
        "# Moneyness and Strike Values\n",
        "# -----------------------------\n",
        "moneyness_list = [0.85, 0.90, 0.95, 1.00, 1.05, 1.10, 1.15]\n",
        "strike_list = [round(S0 / m, 2) for m in moneyness_list]\n",
        "\n",
        "# -----------------------------\n",
        "# Run Simulations Across Strikes\n",
        "# -----------------------------\n",
        "results = []\n",
        "\n",
        "for m, K in zip(moneyness_list, strike_list):\n",
        "    call_h, put_h = simulate_heston(S0, K, T, r, v0, kappa_v, theta_v, rho_heston, sigma, n_paths, n_steps)\n",
        "    call_m, put_m = simulate_merton(S0, K, T, r, sigma, lambda_merton, mu_j, delta_j, n_paths, n_steps)\n",
        "    results.append([\n",
        "        K, round(m, 2),\n",
        "        round(call_h, 2), round(put_h, 2),\n",
        "        round(call_m, 2), round(put_m, 2)\n",
        "    ])\n",
        "\n",
        "# -----------------------------\n",
        "# Display Results in Table\n",
        "# -----------------------------\n",
        "df_strikes = pd.DataFrame(results, columns=[\n",
        "    \"Strike\", \"Moneyness\",\n",
        "    \"Call (Heston)\", \"Put (Heston)\",\n",
        "    \"Call (Merton)\", \"Put (Merton)\"\n",
        "])\n",
        "\n",
        "print(\"\\nOption Prices across 7 Strikes (Heston vs Merton Models):\\n\")\n",
        "print(df_strikes.to_string(index=False))"
      ],
      "metadata": {
        "colab": {
          "base_uri": "https://localhost:8080/"
        },
        "id": "WLLAozRNluOa",
        "outputId": "223375e5-b9d7-4aef-ecbd-00e1157099f7"
      },
      "execution_count": null,
      "outputs": [
        {
          "output_type": "stream",
          "name": "stdout",
          "text": [
            "\n",
            "Option Prices across 7 Strikes (Heston vs Merton Models):\n",
            "\n",
            " Strike  Moneyness  Call (Heston)  Put (Heston)  Call (Merton)  Put (Merton)\n",
            "  94.12       0.85           0.10         13.94           1.41         19.82\n",
            "  88.89       0.90           0.42          9.19           2.37         15.39\n",
            "  84.21       0.95           1.26          5.52           3.58         12.10\n",
            "  80.00       1.00           2.78          2.98           5.19          9.47\n",
            "  76.19       1.05           5.10          1.40           6.93          7.33\n",
            "  72.73       1.10           7.93          0.66           8.66          5.93\n",
            "  69.57       1.15          10.56          0.28          10.51          5.05\n"
          ]
        }
      ]
    },
    {
      "cell_type": "code",
      "source": [
        "# STEP2 QUESTION 13, 14 AND 15\n",
        "\n",
        "import numpy as np\n",
        "import pandas as pd\n",
        "\n",
        "# General Settings\n",
        "S0 = 80\n",
        "K = 80\n",
        "r = 0.055\n",
        "T = 0.25\n",
        "n_paths = 10000\n",
        "n_steps = 50\n",
        "dt = T / n_steps\n",
        "discount = np.exp(-r * dt)\n",
        "\n",
        "# Heston Parameters (Q13)\n",
        "v0 = 0.032\n",
        "kappa = 1.85\n",
        "theta = 0.045\n",
        "sigma_v = 0.35\n",
        "rho = -0.30\n",
        "\n",
        "# Merton Parameters (Q14 and Q15)\n",
        "sigma_m = 0.35\n",
        "lambda_m = 0.75\n",
        "mu_j = -0.5\n",
        "delta_j = 0.22\n",
        "\n",
        "# Basis functions for LSM\n",
        "def regression_basis(S):\n",
        "    return np.vstack([np.ones_like(S), S, S**2]).T\n",
        "\n",
        "# Heston Path Simulation\n",
        "def simulate_heston_paths(S0, v0, r, T, kappa, theta, sigma_v, rho, n_paths, n_steps):\n",
        "    S = np.zeros((n_paths, n_steps + 1))\n",
        "    v = np.zeros((n_paths, n_steps + 1))\n",
        "    S[:, 0], v[:, 0] = S0, v0\n",
        "    for t in range(1, n_steps + 1):\n",
        "        z1 = np.random.normal(size=n_paths)\n",
        "        z2 = rho * z1 + np.sqrt(1 - rho**2) * np.random.normal(size=n_paths)\n",
        "        v[:, t] = np.abs(v[:, t-1] + kappa * (theta - v[:, t-1]) * dt + sigma_v * np.sqrt(v[:, t-1] * dt) * z2)\n",
        "        S[:, t] = S[:, t-1] * np.exp((r - 0.5 * v[:, t-1]) * dt + np.sqrt(v[:, t-1] * dt) * z1)\n",
        "    return S\n",
        "\n",
        "# Merton Path Simulation\n",
        "def simulate_merton_paths(S0, r, sigma, lamb, mu_j, delta_j, n_paths, n_steps):\n",
        "    S = np.zeros((n_paths, n_steps + 1))\n",
        "    S[:, 0] = S0\n",
        "    for t in range(1, n_steps + 1):\n",
        "        Z = np.random.normal(size=n_paths)\n",
        "        N = np.random.poisson(lamb * dt, size=n_paths)\n",
        "        J = np.random.normal(mu_j, delta_j, size=(n_paths, np.max(N)+1))\n",
        "        jump_sum = np.array([np.sum(J[i, :N[i]]) if N[i] > 0 else 0 for i in range(n_paths)])\n",
        "        S[:, t] = S[:, t-1] * np.exp((r - 0.5 * sigma**2) * dt + sigma * np.sqrt(dt) * Z + jump_sum)\n",
        "    return S\n",
        "\n",
        "# LSM Pricing for American Options\n",
        "def price_american_option_lsm(S_paths, K, r, T, option_type='call'):\n",
        "    n_paths, n_steps = S_paths.shape\n",
        "    n_steps -= 1\n",
        "    dt = T / n_steps\n",
        "    if option_type == 'call':\n",
        "        payoff = np.maximum(S_paths[:, -1] - K, 0)\n",
        "    else:\n",
        "        payoff = np.maximum(K - S_paths[:, -1], 0)\n",
        "    exercise_time = np.full(n_paths, n_steps)\n",
        "\n",
        "    for t in range(n_steps - 1, 0, -1):\n",
        "        if option_type == 'call':\n",
        "            itm = np.where(S_paths[:, t] > K)[0]\n",
        "            intrinsic = S_paths[:, t] - K\n",
        "        else:\n",
        "            itm = np.where(S_paths[:, t] < K)[0]\n",
        "            intrinsic = K - S_paths[:, t]\n",
        "        if len(itm) == 0:\n",
        "            continue\n",
        "        X = regression_basis(S_paths[itm, t])\n",
        "        y = payoff[itm] * discount**(exercise_time[itm] - t)\n",
        "        beta = np.linalg.lstsq(X, y, rcond=None)[0]\n",
        "        continuation = X @ beta\n",
        "        exercise = intrinsic[itm] > continuation\n",
        "        idx_exercise = itm[exercise]\n",
        "        payoff[idx_exercise] = intrinsic[idx_exercise]\n",
        "        exercise_time[idx_exercise] = t\n",
        "\n",
        "    return np.mean(payoff * discount**exercise_time)\n",
        "\n",
        "# Estimate Greeks via finite difference\n",
        "def estimate_greeks(model, S0, bump=0.5, option_type='call'):\n",
        "    if model == 'heston':\n",
        "        base = simulate_heston_paths(S0, v0, r, T, kappa, theta, sigma_v, rho, n_paths, n_steps)\n",
        "        up = simulate_heston_paths(S0 + bump, v0, r, T, kappa, theta, sigma_v, rho, n_paths, n_steps)\n",
        "        down = simulate_heston_paths(S0 - bump, v0, r, T, kappa, theta, sigma_v, rho, n_paths, n_steps)\n",
        "    elif model == 'merton':\n",
        "        base = simulate_merton_paths(S0, r, sigma_m, lambda_m, mu_j, delta_j, n_paths, n_steps)\n",
        "        up = simulate_merton_paths(S0 + bump, r, sigma_m, lambda_m, mu_j, delta_j, n_paths, n_steps)\n",
        "        down = simulate_merton_paths(S0 - bump, r, sigma_m, lambda_m, mu_j, delta_j, n_paths, n_steps)\n",
        "    else:\n",
        "        raise ValueError(\"Model must be 'heston' or 'merton'\")\n",
        "\n",
        "    price = price_american_option_lsm(base, K, r, T, option_type)\n",
        "    price_up = price_american_option_lsm(up, K, r, T, option_type)\n",
        "    price_down = price_american_option_lsm(down, K, r, T, option_type)\n",
        "\n",
        "    delta = (price_up - price_down) / (2 * bump)\n",
        "    gamma = (price_up - 2 * price + price_down) / (bump ** 2)\n",
        "\n",
        "    return price, delta, gamma\n",
        "\n",
        "# Run for Q13 (Heston American Call)\n",
        "price_13, delta_13, gamma_13 = estimate_greeks('heston', S0, option_type='call')\n",
        "\n",
        "# Run for Q14 (Merton American Put)\n",
        "price_14, delta_14, gamma_14 = estimate_greeks('merton', S0, option_type='put')\n",
        "\n",
        "# Run for Q15 (Merton American Call)\n",
        "price_15, delta_15, gamma_15 = estimate_greeks('merton', S0, option_type='call')\n",
        "\n",
        "# Assemble results\n",
        "results_step2 = pd.DataFrame([\n",
        "    {\"Question\": \"Q13\", \"Model\": \"Heston (American Call)\", \"Price\": round(price_13, 4), \"Delta\": round(delta_13, 4), \"Gamma\": round(gamma_13, 4)},\n",
        "    {\"Question\": \"Q14\", \"Model\": \"Merton (American Put)\", \"Price\": round(price_14, 4), \"Delta\": round(delta_14, 4), \"Gamma\": round(gamma_14, 4)},\n",
        "    {\"Question\": \"Q15\", \"Model\": \"Merton (American Call)\", \"Price\": round(price_15, 4), \"Delta\": round(delta_15, 4), \"Gamma\": round(gamma_15, 4)},\n",
        "])\n",
        "\n",
        "results_step2\n",
        "# Print the results to the console\n",
        "print(\"\\nFinal Results – Step 2 (Questions 13, 14, 15):\\n\")\n",
        "print(results_step2.to_string(index=False))"
      ],
      "metadata": {
        "id": "fE4vcOaHsoS1",
        "outputId": "b98628dd-a960-4dcb-c50e-f0bfa42734fd",
        "colab": {
          "base_uri": "https://localhost:8080/"
        }
      },
      "execution_count": null,
      "outputs": [
        {
          "output_type": "stream",
          "name": "stdout",
          "text": [
            "\n",
            "Final Results – Step 2 (Questions 13, 14, 15):\n",
            "\n",
            "Question                  Model  Price   Delta  Gamma\n",
            "     Q13 Heston (American Call) 3.3761  0.5914 0.6409\n",
            "     Q14  Merton (American Put) 9.3029 -0.5992 1.5203\n",
            "     Q15 Merton (American Call) 5.2753  0.3389 0.2705\n"
          ]
        }
      ]
    }
  ]
}